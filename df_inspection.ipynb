{
 "cells": [
  {
   "cell_type": "code",
   "execution_count": 1,
   "metadata": {
    "collapsed": true
   },
   "outputs": [],
   "source": [
    "import pandas as pd"
   ]
  },
  {
   "cell_type": "markdown",
   "source": [
    "## Dataframes"
   ],
   "metadata": {
    "collapsed": false
   }
  },
  {
   "cell_type": "code",
   "execution_count": 2,
   "outputs": [
    {
     "data": {
      "text/plain": "                                                 text   \n0   \\n\\nNet Binnen\\nSwitch skinSidebarWillekeurig ...  \\\n1   \\n\\nNet Binnen\\nSwitch skinSidebarWillekeurig ...   \n2   \\n\\nNet Binnen\\nSwitch skinSidebarWillekeurig ...   \n3   \\n\\nNet Binnen\\nSwitch skinSidebarWillekeurig ...   \n4   \\n\\nNet Binnen\\nSwitch skinSidebarWillekeurig ...   \n5   \\n\\nNet Binnen\\nSwitch skinSidebarWillekeurig ...   \n6   \\n\\nNet Binnen\\nSwitch skinSidebarWillekeurig ...   \n7   \\n\\nNet Binnen\\nSwitch skinSidebarWillekeurig ...   \n8   \\n\\nNet Binnen\\nSwitch skinSidebarWillekeurig ...   \n9   \\n\\nNet Binnen\\nSwitch skinSidebarWillekeurig ...   \n10  \\n\\nNet Binnen\\nSwitch skinSidebarWillekeurig ...   \n11  \\n\\nNet Binnen\\nSwitch skinSidebarWillekeurig ...   \n12  \\n\\nNet Binnen\\nSwitch skinSidebarWillekeurig ...   \n13  \\n\\nNet Binnen\\nSwitch skinSidebarWillekeurig ...   \n14  \\n\\nNet Binnen\\nSwitch skinSidebarWillekeurig ...   \n15  \\n\\nNet Binnen\\nSwitch skinSidebarWillekeurig ...   \n16  \\n\\nNet Binnen\\nSwitch skinSidebarWillekeurig ...   \n17  \\n\\nNet Binnen\\nSwitch skinSidebarWillekeurig ...   \n18  \\n\\nNet Binnen\\nSwitch skinSidebarWillekeurig ...   \n19  \\n\\nNet Binnen\\nSwitch skinSidebarWillekeurig ...   \n20  \\n\\nNet Binnen\\nSwitch skinSidebarWillekeurig ...   \n21  \\n\\nNet Binnen\\nSwitch skinSidebarWillekeurig ...   \n22  \\n\\nNet Binnen\\nSwitch skinSidebarWillekeurig ...   \n23  \\n\\nNet Binnen\\nSwitch skinSidebarWillekeurig ...   \n24  \\n\\nNet Binnen\\nSwitch skinSidebarWillekeurig ...   \n25  \\n\\nNet Binnen\\nSwitch skinSidebarWillekeurig ...   \n26  \\n\\nNet Binnen\\nSwitch skinSidebarWillekeurig ...   \n27  \\n\\nNet Binnen\\nSwitch skinSidebarWillekeurig ...   \n28  \\n\\nNet Binnen\\nSwitch skinSidebarWillekeurig ...   \n29  \\n\\nNet Binnen\\nSwitch skinSidebarWillekeurig ...   \n\n                                                 date   \n0   [<span class=\"date meta-item tie-icon\">25 mei ...  \\\n1   [<span class=\"date meta-item tie-icon\">24 mei ...   \n2   [<span class=\"date meta-item tie-icon\">24 mei ...   \n3   [<span class=\"date meta-item tie-icon\">24 mei ...   \n4   [<span class=\"date meta-item tie-icon\">24 mei ...   \n5   [<span class=\"date meta-item tie-icon\">24 mei ...   \n6   [<span class=\"date meta-item tie-icon\">24 mei ...   \n7   [<span class=\"date meta-item tie-icon\">24 mei ...   \n8   [<span class=\"date meta-item tie-icon\">23 mei ...   \n9   [<span class=\"date meta-item tie-icon\">23 mei ...   \n10  [<span class=\"date meta-item tie-icon\">23 mei ...   \n11  [<span class=\"date meta-item tie-icon\">23 mei ...   \n12  [<span class=\"date meta-item tie-icon\">23 mei ...   \n13  [<span class=\"date meta-item tie-icon\">23 mei ...   \n14  [<span class=\"date meta-item tie-icon\">23 mei ...   \n15  [<span class=\"date meta-item tie-icon\">22 mei ...   \n16  [<span class=\"date meta-item tie-icon\">22 mei ...   \n17  [<span class=\"date meta-item tie-icon\">22 mei ...   \n18  [<span class=\"date meta-item tie-icon\">22 mei ...   \n19  [<span class=\"date meta-item tie-icon\">22 mei ...   \n20  [<span class=\"date meta-item tie-icon\">22 mei ...   \n21  [<span class=\"date meta-item tie-icon\">22 mei ...   \n22  [<span class=\"date meta-item tie-icon\">21 mei ...   \n23  [<span class=\"date meta-item tie-icon\">21 mei ...   \n24  [<span class=\"date meta-item tie-icon\">21 mei ...   \n25  [<span class=\"date meta-item tie-icon\">21 mei ...   \n26  [<span class=\"date meta-item tie-icon\">21 mei ...   \n27  [<span class=\"date meta-item tie-icon\">20 mei ...   \n28  [<span class=\"date meta-item tie-icon\">20 mei ...   \n29  [<span class=\"date meta-item tie-icon\">20 mei ...   \n\n                                                  url  \n0                 https://www.ninefornews.nl/page/13/  \n1   https://www.ninefornews.nl/europarlementarier-...  \n2   https://www.ninefornews.nl/world-economic-foru...  \n3   https://www.ninefornews.nl/russische-soldaten-...  \n4   https://www.ninefornews.nl/harde-uithaal-naar-...  \n5   https://www.ninefornews.nl/zo-hebben-ze-de-pan...  \n6   https://www.ninefornews.nl/brisante-onthulling...  \n7   https://www.ninefornews.nl/kaag-kiest-er-bewus...  \n8   https://www.ninefornews.nl/verslagenheid-na-aa...  \n9   https://www.ninefornews.nl/instagram-influence...  \n10  https://www.ninefornews.nl/timmermans-aangepak...  \n11  https://www.ninefornews.nl/thierry-baudet-waar...  \n12  https://www.ninefornews.nl/eerste-kamerlid-chr...  \n13  https://www.ninefornews.nl/fel-verzet-tegen-pa...  \n14  https://www.ninefornews.nl/schrijver-hier-heef...  \n15  https://www.ninefornews.nl/amerikaanse-acteur-...  \n16  https://www.ninefornews.nl/fvd-stelt-kamervrag...  \n17  https://www.ninefornews.nl/de-boeren-moeten-we...  \n18  https://www.ninefornews.nl/gevaccineerden-zull...  \n19  https://www.ninefornews.nl/europarlementarier-...  \n20  https://www.ninefornews.nl/arts-over-nederland...  \n21  https://www.ninefornews.nl/rusland-dreigt-onze...  \n22  https://www.ninefornews.nl/oekraine-doet-schok...  \n23  https://www.ninefornews.nl/nieuwe-pensioenwet-...  \n24  https://www.ninefornews.nl/europese-hoofd-van-...  \n25  https://www.ninefornews.nl/coronacriticus-van-...  \n26  https://www.ninefornews.nl/acteur-epstein-eila...  \n27  https://www.ninefornews.nl/kamerlid-haalt-fel-...  \n28  https://www.ninefornews.nl/advocaat-zegt-groen...  \n29  https://www.ninefornews.nl/great-reset-archite...  ",
      "text/html": "<div>\n<style scoped>\n    .dataframe tbody tr th:only-of-type {\n        vertical-align: middle;\n    }\n\n    .dataframe tbody tr th {\n        vertical-align: top;\n    }\n\n    .dataframe thead th {\n        text-align: right;\n    }\n</style>\n<table border=\"1\" class=\"dataframe\">\n  <thead>\n    <tr style=\"text-align: right;\">\n      <th></th>\n      <th>text</th>\n      <th>date</th>\n      <th>url</th>\n    </tr>\n  </thead>\n  <tbody>\n    <tr>\n      <th>0</th>\n      <td>\\n\\nNet Binnen\\nSwitch skinSidebarWillekeurig ...</td>\n      <td>[&lt;span class=\"date meta-item tie-icon\"&gt;25 mei ...</td>\n      <td>https://www.ninefornews.nl/page/13/</td>\n    </tr>\n    <tr>\n      <th>1</th>\n      <td>\\n\\nNet Binnen\\nSwitch skinSidebarWillekeurig ...</td>\n      <td>[&lt;span class=\"date meta-item tie-icon\"&gt;24 mei ...</td>\n      <td>https://www.ninefornews.nl/europarlementarier-...</td>\n    </tr>\n    <tr>\n      <th>2</th>\n      <td>\\n\\nNet Binnen\\nSwitch skinSidebarWillekeurig ...</td>\n      <td>[&lt;span class=\"date meta-item tie-icon\"&gt;24 mei ...</td>\n      <td>https://www.ninefornews.nl/world-economic-foru...</td>\n    </tr>\n    <tr>\n      <th>3</th>\n      <td>\\n\\nNet Binnen\\nSwitch skinSidebarWillekeurig ...</td>\n      <td>[&lt;span class=\"date meta-item tie-icon\"&gt;24 mei ...</td>\n      <td>https://www.ninefornews.nl/russische-soldaten-...</td>\n    </tr>\n    <tr>\n      <th>4</th>\n      <td>\\n\\nNet Binnen\\nSwitch skinSidebarWillekeurig ...</td>\n      <td>[&lt;span class=\"date meta-item tie-icon\"&gt;24 mei ...</td>\n      <td>https://www.ninefornews.nl/harde-uithaal-naar-...</td>\n    </tr>\n    <tr>\n      <th>5</th>\n      <td>\\n\\nNet Binnen\\nSwitch skinSidebarWillekeurig ...</td>\n      <td>[&lt;span class=\"date meta-item tie-icon\"&gt;24 mei ...</td>\n      <td>https://www.ninefornews.nl/zo-hebben-ze-de-pan...</td>\n    </tr>\n    <tr>\n      <th>6</th>\n      <td>\\n\\nNet Binnen\\nSwitch skinSidebarWillekeurig ...</td>\n      <td>[&lt;span class=\"date meta-item tie-icon\"&gt;24 mei ...</td>\n      <td>https://www.ninefornews.nl/brisante-onthulling...</td>\n    </tr>\n    <tr>\n      <th>7</th>\n      <td>\\n\\nNet Binnen\\nSwitch skinSidebarWillekeurig ...</td>\n      <td>[&lt;span class=\"date meta-item tie-icon\"&gt;24 mei ...</td>\n      <td>https://www.ninefornews.nl/kaag-kiest-er-bewus...</td>\n    </tr>\n    <tr>\n      <th>8</th>\n      <td>\\n\\nNet Binnen\\nSwitch skinSidebarWillekeurig ...</td>\n      <td>[&lt;span class=\"date meta-item tie-icon\"&gt;23 mei ...</td>\n      <td>https://www.ninefornews.nl/verslagenheid-na-aa...</td>\n    </tr>\n    <tr>\n      <th>9</th>\n      <td>\\n\\nNet Binnen\\nSwitch skinSidebarWillekeurig ...</td>\n      <td>[&lt;span class=\"date meta-item tie-icon\"&gt;23 mei ...</td>\n      <td>https://www.ninefornews.nl/instagram-influence...</td>\n    </tr>\n    <tr>\n      <th>10</th>\n      <td>\\n\\nNet Binnen\\nSwitch skinSidebarWillekeurig ...</td>\n      <td>[&lt;span class=\"date meta-item tie-icon\"&gt;23 mei ...</td>\n      <td>https://www.ninefornews.nl/timmermans-aangepak...</td>\n    </tr>\n    <tr>\n      <th>11</th>\n      <td>\\n\\nNet Binnen\\nSwitch skinSidebarWillekeurig ...</td>\n      <td>[&lt;span class=\"date meta-item tie-icon\"&gt;23 mei ...</td>\n      <td>https://www.ninefornews.nl/thierry-baudet-waar...</td>\n    </tr>\n    <tr>\n      <th>12</th>\n      <td>\\n\\nNet Binnen\\nSwitch skinSidebarWillekeurig ...</td>\n      <td>[&lt;span class=\"date meta-item tie-icon\"&gt;23 mei ...</td>\n      <td>https://www.ninefornews.nl/eerste-kamerlid-chr...</td>\n    </tr>\n    <tr>\n      <th>13</th>\n      <td>\\n\\nNet Binnen\\nSwitch skinSidebarWillekeurig ...</td>\n      <td>[&lt;span class=\"date meta-item tie-icon\"&gt;23 mei ...</td>\n      <td>https://www.ninefornews.nl/fel-verzet-tegen-pa...</td>\n    </tr>\n    <tr>\n      <th>14</th>\n      <td>\\n\\nNet Binnen\\nSwitch skinSidebarWillekeurig ...</td>\n      <td>[&lt;span class=\"date meta-item tie-icon\"&gt;23 mei ...</td>\n      <td>https://www.ninefornews.nl/schrijver-hier-heef...</td>\n    </tr>\n    <tr>\n      <th>15</th>\n      <td>\\n\\nNet Binnen\\nSwitch skinSidebarWillekeurig ...</td>\n      <td>[&lt;span class=\"date meta-item tie-icon\"&gt;22 mei ...</td>\n      <td>https://www.ninefornews.nl/amerikaanse-acteur-...</td>\n    </tr>\n    <tr>\n      <th>16</th>\n      <td>\\n\\nNet Binnen\\nSwitch skinSidebarWillekeurig ...</td>\n      <td>[&lt;span class=\"date meta-item tie-icon\"&gt;22 mei ...</td>\n      <td>https://www.ninefornews.nl/fvd-stelt-kamervrag...</td>\n    </tr>\n    <tr>\n      <th>17</th>\n      <td>\\n\\nNet Binnen\\nSwitch skinSidebarWillekeurig ...</td>\n      <td>[&lt;span class=\"date meta-item tie-icon\"&gt;22 mei ...</td>\n      <td>https://www.ninefornews.nl/de-boeren-moeten-we...</td>\n    </tr>\n    <tr>\n      <th>18</th>\n      <td>\\n\\nNet Binnen\\nSwitch skinSidebarWillekeurig ...</td>\n      <td>[&lt;span class=\"date meta-item tie-icon\"&gt;22 mei ...</td>\n      <td>https://www.ninefornews.nl/gevaccineerden-zull...</td>\n    </tr>\n    <tr>\n      <th>19</th>\n      <td>\\n\\nNet Binnen\\nSwitch skinSidebarWillekeurig ...</td>\n      <td>[&lt;span class=\"date meta-item tie-icon\"&gt;22 mei ...</td>\n      <td>https://www.ninefornews.nl/europarlementarier-...</td>\n    </tr>\n    <tr>\n      <th>20</th>\n      <td>\\n\\nNet Binnen\\nSwitch skinSidebarWillekeurig ...</td>\n      <td>[&lt;span class=\"date meta-item tie-icon\"&gt;22 mei ...</td>\n      <td>https://www.ninefornews.nl/arts-over-nederland...</td>\n    </tr>\n    <tr>\n      <th>21</th>\n      <td>\\n\\nNet Binnen\\nSwitch skinSidebarWillekeurig ...</td>\n      <td>[&lt;span class=\"date meta-item tie-icon\"&gt;22 mei ...</td>\n      <td>https://www.ninefornews.nl/rusland-dreigt-onze...</td>\n    </tr>\n    <tr>\n      <th>22</th>\n      <td>\\n\\nNet Binnen\\nSwitch skinSidebarWillekeurig ...</td>\n      <td>[&lt;span class=\"date meta-item tie-icon\"&gt;21 mei ...</td>\n      <td>https://www.ninefornews.nl/oekraine-doet-schok...</td>\n    </tr>\n    <tr>\n      <th>23</th>\n      <td>\\n\\nNet Binnen\\nSwitch skinSidebarWillekeurig ...</td>\n      <td>[&lt;span class=\"date meta-item tie-icon\"&gt;21 mei ...</td>\n      <td>https://www.ninefornews.nl/nieuwe-pensioenwet-...</td>\n    </tr>\n    <tr>\n      <th>24</th>\n      <td>\\n\\nNet Binnen\\nSwitch skinSidebarWillekeurig ...</td>\n      <td>[&lt;span class=\"date meta-item tie-icon\"&gt;21 mei ...</td>\n      <td>https://www.ninefornews.nl/europese-hoofd-van-...</td>\n    </tr>\n    <tr>\n      <th>25</th>\n      <td>\\n\\nNet Binnen\\nSwitch skinSidebarWillekeurig ...</td>\n      <td>[&lt;span class=\"date meta-item tie-icon\"&gt;21 mei ...</td>\n      <td>https://www.ninefornews.nl/coronacriticus-van-...</td>\n    </tr>\n    <tr>\n      <th>26</th>\n      <td>\\n\\nNet Binnen\\nSwitch skinSidebarWillekeurig ...</td>\n      <td>[&lt;span class=\"date meta-item tie-icon\"&gt;21 mei ...</td>\n      <td>https://www.ninefornews.nl/acteur-epstein-eila...</td>\n    </tr>\n    <tr>\n      <th>27</th>\n      <td>\\n\\nNet Binnen\\nSwitch skinSidebarWillekeurig ...</td>\n      <td>[&lt;span class=\"date meta-item tie-icon\"&gt;20 mei ...</td>\n      <td>https://www.ninefornews.nl/kamerlid-haalt-fel-...</td>\n    </tr>\n    <tr>\n      <th>28</th>\n      <td>\\n\\nNet Binnen\\nSwitch skinSidebarWillekeurig ...</td>\n      <td>[&lt;span class=\"date meta-item tie-icon\"&gt;20 mei ...</td>\n      <td>https://www.ninefornews.nl/advocaat-zegt-groen...</td>\n    </tr>\n    <tr>\n      <th>29</th>\n      <td>\\n\\nNet Binnen\\nSwitch skinSidebarWillekeurig ...</td>\n      <td>[&lt;span class=\"date meta-item tie-icon\"&gt;20 mei ...</td>\n      <td>https://www.ninefornews.nl/great-reset-archite...</td>\n    </tr>\n  </tbody>\n</table>\n</div>"
     },
     "execution_count": 2,
     "metadata": {},
     "output_type": "execute_result"
    }
   ],
   "source": [
    "df_nine_for_news = pd.read_csv('results_nine_for_news.csv')\n",
    "df_nine_for_news"
   ],
   "metadata": {
    "collapsed": false
   }
  },
  {
   "cell_type": "code",
   "execution_count": 3,
   "outputs": [
    {
     "data": {
      "text/plain": "Empty DataFrame\nColumns: [text, date, url]\nIndex: []",
      "text/html": "<div>\n<style scoped>\n    .dataframe tbody tr th:only-of-type {\n        vertical-align: middle;\n    }\n\n    .dataframe tbody tr th {\n        vertical-align: top;\n    }\n\n    .dataframe thead th {\n        text-align: right;\n    }\n</style>\n<table border=\"1\" class=\"dataframe\">\n  <thead>\n    <tr style=\"text-align: right;\">\n      <th></th>\n      <th>text</th>\n      <th>date</th>\n      <th>url</th>\n    </tr>\n  </thead>\n  <tbody>\n  </tbody>\n</table>\n</div>"
     },
     "execution_count": 3,
     "metadata": {},
     "output_type": "execute_result"
    }
   ],
   "source": [
    "df_gedachtenvoer = pd.read_csv('results_gedachtenvoer.csv')\n",
    "df_gedachtenvoer"
   ],
   "metadata": {
    "collapsed": false
   }
  },
  {
   "cell_type": "code",
   "execution_count": 4,
   "outputs": [
    {
     "data": {
      "text/plain": "                                                  text   \n0    IndyMedia\\n\\n\\n\\n\\n\\n\\n\\n\\n\\nSteun Indymedia N...  \\\n1    IndyMedia\\n\\n\\n\\n\\n\\n\\n\\n\\n\\nSteun Indymedia N...   \n2    IndyMedia\\n\\n\\n\\n\\n\\n\\n\\n\\n\\nSteun Indymedia N...   \n3    IndyMedia\\n\\n\\n\\n\\n\\n\\n\\n\\n\\nSteun Indymedia N...   \n4    IndyMedia\\n\\n\\n\\n\\n\\n\\n\\n\\n\\nSteun Indymedia N...   \n..                                                 ...   \n134  IndyMedia\\n\\n\\n\\n\\n\\n\\n\\n\\n\\nSteun Indymedia N...   \n135  IndyMedia\\n\\n\\n\\n\\n\\n\\n\\n\\n\\nSteun Indymedia N...   \n136  IndyMedia\\n\\n\\n\\n\\n\\n\\n\\n\\n\\nSteun Indymedia N...   \n137  IndyMedia\\n\\n\\n\\n\\n\\n\\n\\n\\n\\nSteun Indymedia N...   \n138  IndyMedia\\n\\n\\n\\n\\n\\n\\n\\n\\n\\nSteun Indymedia N...   \n\n                                                  date   \n0    [', gepost door: Amsterdamse Autonome Coalitie...  \\\n1    [', gepost door: Joke Kaviaar op 19/05/2023 05...   \n2         [', gepost door: nn op 17/05/2023 05:09:59']   \n3         [', gepost door: nn op 13/05/2023 05:10:10']   \n4    [', gepost door: Anarchist Black Cross Dresden...   \n..                                                 ...   \n134                                                 []   \n135  [', gepost door: Internationale Kommunistische...   \n136  [', gepost door: Internationale Kommunistische...   \n137  [', gepost door: Internationale Kommunistische...   \n138                                                 []   \n\n                                                 url  \n0                          https://www.indymedia.nl/  \n1                https://www.indymedia.nl/node/53410  \n2                https://www.indymedia.nl/node/53399  \n3                https://www.indymedia.nl/node/53386  \n4                https://www.indymedia.nl/node/53377  \n..                                               ...  \n134        https://www.indymedia.nl/event/2023/05/27  \n135      https://www.indymedia.nl/taxonomy/term/4784  \n136      https://www.indymedia.nl/taxonomy/term/4785  \n137  https://www.indymedia.nl/node/add/comment/53419  \n138   https://www.indymedia.nl/discussthis/new/53419  \n\n[139 rows x 3 columns]",
      "text/html": "<div>\n<style scoped>\n    .dataframe tbody tr th:only-of-type {\n        vertical-align: middle;\n    }\n\n    .dataframe tbody tr th {\n        vertical-align: top;\n    }\n\n    .dataframe thead th {\n        text-align: right;\n    }\n</style>\n<table border=\"1\" class=\"dataframe\">\n  <thead>\n    <tr style=\"text-align: right;\">\n      <th></th>\n      <th>text</th>\n      <th>date</th>\n      <th>url</th>\n    </tr>\n  </thead>\n  <tbody>\n    <tr>\n      <th>0</th>\n      <td>IndyMedia\\n\\n\\n\\n\\n\\n\\n\\n\\n\\nSteun Indymedia N...</td>\n      <td>[', gepost door: Amsterdamse Autonome Coalitie...</td>\n      <td>https://www.indymedia.nl/</td>\n    </tr>\n    <tr>\n      <th>1</th>\n      <td>IndyMedia\\n\\n\\n\\n\\n\\n\\n\\n\\n\\nSteun Indymedia N...</td>\n      <td>[', gepost door: Joke Kaviaar op 19/05/2023 05...</td>\n      <td>https://www.indymedia.nl/node/53410</td>\n    </tr>\n    <tr>\n      <th>2</th>\n      <td>IndyMedia\\n\\n\\n\\n\\n\\n\\n\\n\\n\\nSteun Indymedia N...</td>\n      <td>[', gepost door: nn op 17/05/2023 05:09:59']</td>\n      <td>https://www.indymedia.nl/node/53399</td>\n    </tr>\n    <tr>\n      <th>3</th>\n      <td>IndyMedia\\n\\n\\n\\n\\n\\n\\n\\n\\n\\nSteun Indymedia N...</td>\n      <td>[', gepost door: nn op 13/05/2023 05:10:10']</td>\n      <td>https://www.indymedia.nl/node/53386</td>\n    </tr>\n    <tr>\n      <th>4</th>\n      <td>IndyMedia\\n\\n\\n\\n\\n\\n\\n\\n\\n\\nSteun Indymedia N...</td>\n      <td>[', gepost door: Anarchist Black Cross Dresden...</td>\n      <td>https://www.indymedia.nl/node/53377</td>\n    </tr>\n    <tr>\n      <th>...</th>\n      <td>...</td>\n      <td>...</td>\n      <td>...</td>\n    </tr>\n    <tr>\n      <th>134</th>\n      <td>IndyMedia\\n\\n\\n\\n\\n\\n\\n\\n\\n\\nSteun Indymedia N...</td>\n      <td>[]</td>\n      <td>https://www.indymedia.nl/event/2023/05/27</td>\n    </tr>\n    <tr>\n      <th>135</th>\n      <td>IndyMedia\\n\\n\\n\\n\\n\\n\\n\\n\\n\\nSteun Indymedia N...</td>\n      <td>[', gepost door: Internationale Kommunistische...</td>\n      <td>https://www.indymedia.nl/taxonomy/term/4784</td>\n    </tr>\n    <tr>\n      <th>136</th>\n      <td>IndyMedia\\n\\n\\n\\n\\n\\n\\n\\n\\n\\nSteun Indymedia N...</td>\n      <td>[', gepost door: Internationale Kommunistische...</td>\n      <td>https://www.indymedia.nl/taxonomy/term/4785</td>\n    </tr>\n    <tr>\n      <th>137</th>\n      <td>IndyMedia\\n\\n\\n\\n\\n\\n\\n\\n\\n\\nSteun Indymedia N...</td>\n      <td>[', gepost door: Internationale Kommunistische...</td>\n      <td>https://www.indymedia.nl/node/add/comment/53419</td>\n    </tr>\n    <tr>\n      <th>138</th>\n      <td>IndyMedia\\n\\n\\n\\n\\n\\n\\n\\n\\n\\nSteun Indymedia N...</td>\n      <td>[]</td>\n      <td>https://www.indymedia.nl/discussthis/new/53419</td>\n    </tr>\n  </tbody>\n</table>\n<p>139 rows × 3 columns</p>\n</div>"
     },
     "execution_count": 4,
     "metadata": {},
     "output_type": "execute_result"
    }
   ],
   "source": [
    "df_indymedia= pd.read_csv('results_Indymedia.csv')\n",
    "df_indymedia"
   ],
   "metadata": {
    "collapsed": false
   }
  },
  {
   "cell_type": "code",
   "execution_count": 5,
   "outputs": [
    {
     "data": {
      "text/plain": "                                                 text   \n0   Toggle navigationInfo Het is werkelijk ziekmak...  \\\n1   Toggle navigationInfo\\n\\n\\n\\n\\n\\n\\n  \\nD66 kru...   \n2   Toggle navigationInfo \\n\\n\\n\\n\\n\\n\\n  \\nD66 kr...   \n3   Toggle navigationInfoVoor technische vragen ov...   \n4   Toggle navigationInfo Niburu is afhankelijk va...   \n..                                                ...   \n84  Toggle navigationInfo Enkele jaren geleden zij...   \n85  Ministers liegen alsof het gedrukt staat en de...   \n86  Toggle navigationInfoDe nep coronapandemie lig...   \n87  Toggle navigationInfoDit is het niet, omdat he...   \n88  Toggle navigationInfoMinisters liegen alsof he...   \n\n                                                 date   \n0   [<time datetime=\"2023-05-24T13:47:53+02:00\" it...  \\\n1                                                  []   \n2                                                  []   \n3                                                  []   \n4                                                  []   \n..                                                ...   \n84  [<time datetime=\"2023-05-24T06:04:52+02:00\" it...   \n85  [<time datetime=\"2023-05-23T19:02:42+02:00\" it...   \n86  [<time datetime=\"2023-05-14T11:00:34+02:00\" it...   \n87  [<time datetime=\"2021-07-19T20:20:57+02:00\" it...   \n88  [<time datetime=\"2023-05-23T19:02:42+02:00\" it...   \n\n                                                  url  \n0                                  https://niburu.co/  \n1                     https://niburu.co/info/over-ons  \n2                   https://niburu.co/info/adverteren  \n3                      https://niburu.co/info/contact  \n4                           https://niburu.co/doneren  \n..                                                ...  \n84  https://niburu.co/site-mededelingen/18580-de-w...  \n85  https://niburu.co/binnenland/18583-steeds-meer...  \n86  https://niburu.co/het-complot/18555-tijdlijn-n...  \n87  https://niburu.co/binnenland/16500-het-parleme...  \n88  https://niburu.co/binnenland/18583-steeds-meer...  \n\n[89 rows x 3 columns]",
      "text/html": "<div>\n<style scoped>\n    .dataframe tbody tr th:only-of-type {\n        vertical-align: middle;\n    }\n\n    .dataframe tbody tr th {\n        vertical-align: top;\n    }\n\n    .dataframe thead th {\n        text-align: right;\n    }\n</style>\n<table border=\"1\" class=\"dataframe\">\n  <thead>\n    <tr style=\"text-align: right;\">\n      <th></th>\n      <th>text</th>\n      <th>date</th>\n      <th>url</th>\n    </tr>\n  </thead>\n  <tbody>\n    <tr>\n      <th>0</th>\n      <td>Toggle navigationInfo Het is werkelijk ziekmak...</td>\n      <td>[&lt;time datetime=\"2023-05-24T13:47:53+02:00\" it...</td>\n      <td>https://niburu.co/</td>\n    </tr>\n    <tr>\n      <th>1</th>\n      <td>Toggle navigationInfo\\n\\n\\n\\n\\n\\n\\n  \\nD66 kru...</td>\n      <td>[]</td>\n      <td>https://niburu.co/info/over-ons</td>\n    </tr>\n    <tr>\n      <th>2</th>\n      <td>Toggle navigationInfo \\n\\n\\n\\n\\n\\n\\n  \\nD66 kr...</td>\n      <td>[]</td>\n      <td>https://niburu.co/info/adverteren</td>\n    </tr>\n    <tr>\n      <th>3</th>\n      <td>Toggle navigationInfoVoor technische vragen ov...</td>\n      <td>[]</td>\n      <td>https://niburu.co/info/contact</td>\n    </tr>\n    <tr>\n      <th>4</th>\n      <td>Toggle navigationInfo Niburu is afhankelijk va...</td>\n      <td>[]</td>\n      <td>https://niburu.co/doneren</td>\n    </tr>\n    <tr>\n      <th>...</th>\n      <td>...</td>\n      <td>...</td>\n      <td>...</td>\n    </tr>\n    <tr>\n      <th>84</th>\n      <td>Toggle navigationInfo Enkele jaren geleden zij...</td>\n      <td>[&lt;time datetime=\"2023-05-24T06:04:52+02:00\" it...</td>\n      <td>https://niburu.co/site-mededelingen/18580-de-w...</td>\n    </tr>\n    <tr>\n      <th>85</th>\n      <td>Ministers liegen alsof het gedrukt staat en de...</td>\n      <td>[&lt;time datetime=\"2023-05-23T19:02:42+02:00\" it...</td>\n      <td>https://niburu.co/binnenland/18583-steeds-meer...</td>\n    </tr>\n    <tr>\n      <th>86</th>\n      <td>Toggle navigationInfoDe nep coronapandemie lig...</td>\n      <td>[&lt;time datetime=\"2023-05-14T11:00:34+02:00\" it...</td>\n      <td>https://niburu.co/het-complot/18555-tijdlijn-n...</td>\n    </tr>\n    <tr>\n      <th>87</th>\n      <td>Toggle navigationInfoDit is het niet, omdat he...</td>\n      <td>[&lt;time datetime=\"2021-07-19T20:20:57+02:00\" it...</td>\n      <td>https://niburu.co/binnenland/16500-het-parleme...</td>\n    </tr>\n    <tr>\n      <th>88</th>\n      <td>Toggle navigationInfoMinisters liegen alsof he...</td>\n      <td>[&lt;time datetime=\"2023-05-23T19:02:42+02:00\" it...</td>\n      <td>https://niburu.co/binnenland/18583-steeds-meer...</td>\n    </tr>\n  </tbody>\n</table>\n<p>89 rows × 3 columns</p>\n</div>"
     },
     "execution_count": 5,
     "metadata": {},
     "output_type": "execute_result"
    }
   ],
   "source": [
    "df_niburu = pd.read_csv('results_niburu.csv')\n",
    "df_niburu"
   ],
   "metadata": {
    "collapsed": false
   }
  },
  {
   "cell_type": "code",
   "execution_count": 6,
   "outputs": [
    {
     "data": {
      "text/plain": "                                                  text   \n0    StartNieuwsoverzichtContactNieuwsarchiefBinnen...  \\\n1    StartNieuwsoverzichtContactNieuwsarchiefBinnen...   \n2    StartNieuwsoverzichtContactNieuwsarchiefBinnen...   \n3    StartNieuwsoverzichtContactNieuwsarchiefBinnen...   \n4    StartNieuwsoverzichtContactNieuwsarchiefBinnen...   \n..                                                 ...   \n343  StartNieuwsoverzichtContactNieuwsarchiefBinnen...   \n344  StartNieuwsoverzichtContactNieuwsarchiefBinnen...   \n345  StartNieuwsoverzichtContactNieuwsarchiefBinnen...   \n346  StartNieuwsoverzichtContactNieuwsarchiefBinnen...   \n347  StartNieuwsoverzichtContactNieuwsarchiefBinnen...   \n\n                                                  date   \n0    [<time datetime=\"2023-05-24T21:25:53+02:00\" it...  \\\n1                                                   []   \n2                                                   []   \n3    [<time datetime=\"2019-08-20T17:37:57+02:00\" it...   \n4    [<time datetime=\"2023-05-20T20:38:26+02:00\" it...   \n..                                                 ...   \n343  [<time datetime=\"2021-12-08T16:32:47+01:00\" it...   \n344  [<time datetime=\"2021-11-03T15:10:58+01:00\" it...   \n345  [<time datetime=\"2021-10-19T12:02:36+02:00\" it...   \n346  [<time datetime=\"2021-09-17T09:46:53+02:00\" it...   \n347  [<time datetime=\"2019-09-27T17:15:34+02:00\" it...   \n\n                                                   url  \n0                            https://privacynieuws.nl/  \n1        https://privacynieuws.nl/nieuwsoverzicht.html  \n2                https://privacynieuws.nl/contact.html  \n3    https://privacynieuws.nl/nieuwsarchief.html?ca...  \n4     https://privacynieuws.nl/binnenlands-nieuws.html  \n..                                                 ...  \n343  https://privacynieuws.nl/lichamelijke-integrit...  \n344  https://privacynieuws.nl/lichamelijke-integrit...  \n345  https://privacynieuws.nl/lichamelijke-integrit...  \n346  https://privacynieuws.nl/lichamelijke-integrit...  \n347  https://privacynieuws.nl/lichamelijke-integrit...  \n\n[348 rows x 3 columns]",
      "text/html": "<div>\n<style scoped>\n    .dataframe tbody tr th:only-of-type {\n        vertical-align: middle;\n    }\n\n    .dataframe tbody tr th {\n        vertical-align: top;\n    }\n\n    .dataframe thead th {\n        text-align: right;\n    }\n</style>\n<table border=\"1\" class=\"dataframe\">\n  <thead>\n    <tr style=\"text-align: right;\">\n      <th></th>\n      <th>text</th>\n      <th>date</th>\n      <th>url</th>\n    </tr>\n  </thead>\n  <tbody>\n    <tr>\n      <th>0</th>\n      <td>StartNieuwsoverzichtContactNieuwsarchiefBinnen...</td>\n      <td>[&lt;time datetime=\"2023-05-24T21:25:53+02:00\" it...</td>\n      <td>https://privacynieuws.nl/</td>\n    </tr>\n    <tr>\n      <th>1</th>\n      <td>StartNieuwsoverzichtContactNieuwsarchiefBinnen...</td>\n      <td>[]</td>\n      <td>https://privacynieuws.nl/nieuwsoverzicht.html</td>\n    </tr>\n    <tr>\n      <th>2</th>\n      <td>StartNieuwsoverzichtContactNieuwsarchiefBinnen...</td>\n      <td>[]</td>\n      <td>https://privacynieuws.nl/contact.html</td>\n    </tr>\n    <tr>\n      <th>3</th>\n      <td>StartNieuwsoverzichtContactNieuwsarchiefBinnen...</td>\n      <td>[&lt;time datetime=\"2019-08-20T17:37:57+02:00\" it...</td>\n      <td>https://privacynieuws.nl/nieuwsarchief.html?ca...</td>\n    </tr>\n    <tr>\n      <th>4</th>\n      <td>StartNieuwsoverzichtContactNieuwsarchiefBinnen...</td>\n      <td>[&lt;time datetime=\"2023-05-20T20:38:26+02:00\" it...</td>\n      <td>https://privacynieuws.nl/binnenlands-nieuws.html</td>\n    </tr>\n    <tr>\n      <th>...</th>\n      <td>...</td>\n      <td>...</td>\n      <td>...</td>\n    </tr>\n    <tr>\n      <th>343</th>\n      <td>StartNieuwsoverzichtContactNieuwsarchiefBinnen...</td>\n      <td>[&lt;time datetime=\"2021-12-08T16:32:47+01:00\" it...</td>\n      <td>https://privacynieuws.nl/lichamelijke-integrit...</td>\n    </tr>\n    <tr>\n      <th>344</th>\n      <td>StartNieuwsoverzichtContactNieuwsarchiefBinnen...</td>\n      <td>[&lt;time datetime=\"2021-11-03T15:10:58+01:00\" it...</td>\n      <td>https://privacynieuws.nl/lichamelijke-integrit...</td>\n    </tr>\n    <tr>\n      <th>345</th>\n      <td>StartNieuwsoverzichtContactNieuwsarchiefBinnen...</td>\n      <td>[&lt;time datetime=\"2021-10-19T12:02:36+02:00\" it...</td>\n      <td>https://privacynieuws.nl/lichamelijke-integrit...</td>\n    </tr>\n    <tr>\n      <th>346</th>\n      <td>StartNieuwsoverzichtContactNieuwsarchiefBinnen...</td>\n      <td>[&lt;time datetime=\"2021-09-17T09:46:53+02:00\" it...</td>\n      <td>https://privacynieuws.nl/lichamelijke-integrit...</td>\n    </tr>\n    <tr>\n      <th>347</th>\n      <td>StartNieuwsoverzichtContactNieuwsarchiefBinnen...</td>\n      <td>[&lt;time datetime=\"2019-09-27T17:15:34+02:00\" it...</td>\n      <td>https://privacynieuws.nl/lichamelijke-integrit...</td>\n    </tr>\n  </tbody>\n</table>\n<p>348 rows × 3 columns</p>\n</div>"
     },
     "execution_count": 6,
     "metadata": {},
     "output_type": "execute_result"
    }
   ],
   "source": [
    "df_privacynieuws = pd.read_csv('results_privacynieuws.csv')\n",
    "df_privacynieuws"
   ],
   "metadata": {
    "collapsed": false
   }
  },
  {
   "cell_type": "code",
   "execution_count": null,
   "outputs": [],
   "source": [],
   "metadata": {
    "collapsed": false
   }
  }
 ],
 "metadata": {
  "kernelspec": {
   "display_name": "Python 3",
   "language": "python",
   "name": "python3"
  },
  "language_info": {
   "codemirror_mode": {
    "name": "ipython",
    "version": 2
   },
   "file_extension": ".py",
   "mimetype": "text/x-python",
   "name": "python",
   "nbconvert_exporter": "python",
   "pygments_lexer": "ipython2",
   "version": "2.7.6"
  }
 },
 "nbformat": 4,
 "nbformat_minor": 0
}
