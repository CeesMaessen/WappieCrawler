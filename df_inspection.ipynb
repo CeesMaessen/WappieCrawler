{
 "cells": [
  {
   "cell_type": "code",
   "execution_count": 163,
   "metadata": {
    "collapsed": true
   },
   "outputs": [
    {
     "data": {
      "text/plain": "True"
     },
     "execution_count": 163,
     "metadata": {},
     "output_type": "execute_result"
    }
   ],
   "source": [
    "import pandas as pd\n",
    "import numpy as np\n",
    "import re\n",
    "import dateutil.parser as dparser\n",
    "from tqdm import tqdm\n",
    "from tqdm.auto import tqdm\n",
    "import tiktoken\n",
    "import openai\n",
    "import os\n",
    "from dotenv import load_dotenv\n",
    "load_dotenv()"
   ]
  },
  {
   "cell_type": "code",
   "execution_count": 4,
   "outputs": [],
   "source": [
    "OPENAI_KEY = os.getenv('OPENAI_KEY')\n",
    "openai.api_key = OPENAI_KEY"
   ],
   "metadata": {
    "collapsed": false
   }
  },
  {
   "cell_type": "code",
   "execution_count": 7,
   "outputs": [],
   "source": [
    "def find_max_len(df):\n",
    "    max_len = 0\n",
    "    for text in df['text']:\n",
    "        if len(text) > max_len:\n",
    "            max_len = len(text)\n",
    "    return max_len"
   ],
   "metadata": {
    "collapsed": false
   }
  },
  {
   "cell_type": "markdown",
   "source": [
    "## Dataframes"
   ],
   "metadata": {
    "collapsed": false
   }
  },
  {
   "cell_type": "code",
   "execution_count": 153,
   "outputs": [
    {
     "data": {
      "text/plain": "                                                  text        date   \n0    \\n\\nNet Binnen\\nSwitch skinSidebarWillekeurig ...  27-05-2023  \\\n1    \\n\\nNet Binnen\\nSwitch skinSidebarWillekeurig ...  27-05-2023   \n2    \\n\\nNet Binnen\\nSwitch skinSidebarWillekeurig ...  27-05-2023   \n3    \\n\\nNet Binnen\\nSwitch skinSidebarWillekeurig ...  27-05-2023   \n4    \\n\\nNet Binnen\\nSwitch skinSidebarWillekeurig ...  26-05-2023   \n..                                                 ...         ...   \n643  \\n\\nNet Binnen\\nSwitch skinSidebarWillekeurig ...  20-07-2016   \n644  \\n\\nNet Binnen\\nSwitch skinSidebarWillekeurig ...   8-07-2016   \n645  \\n\\nNet Binnen\\nSwitch skinSidebarWillekeurig ...   1-07-2016   \n646  \\n\\nNet Binnen\\nSwitch skinSidebarWillekeurig ...  26-05-2016   \n647  \\n\\nNet Binnen\\nSwitch skinSidebarWillekeurig ...  23-05-2016   \n\n                                                   url         source  \n0    https://www.ninefornews.nl/daar-gaan-we-weer-w...  Nine for News  \n1    https://www.ninefornews.nl/kijk-gevaccineerde-...  Nine for News  \n2    https://www.ninefornews.nl/advocaat-start-same...  Nine for News  \n3    https://www.ninefornews.nl/aivd-gebruikt-nepfo...  Nine for News  \n4    https://www.ninefornews.nl/oud-vvder-doet-boek...  Nine for News  \n..                                                 ...            ...  \n643  https://www.ninefornews.nl/chemtrails-een-goed...  Nine for News  \n644  https://www.ninefornews.nl/politicus-regering-...  Nine for News  \n645  https://www.ninefornews.nl/chemtrails-vliegtui...  Nine for News  \n646  https://www.ninefornews.nl/expert-deze-beelden...  Nine for News  \n647  https://www.ninefornews.nl/chemtrails-sproeien...  Nine for News  \n\n[343 rows x 4 columns]",
      "text/html": "<div>\n<style scoped>\n    .dataframe tbody tr th:only-of-type {\n        vertical-align: middle;\n    }\n\n    .dataframe tbody tr th {\n        vertical-align: top;\n    }\n\n    .dataframe thead th {\n        text-align: right;\n    }\n</style>\n<table border=\"1\" class=\"dataframe\">\n  <thead>\n    <tr style=\"text-align: right;\">\n      <th></th>\n      <th>text</th>\n      <th>date</th>\n      <th>url</th>\n      <th>source</th>\n    </tr>\n  </thead>\n  <tbody>\n    <tr>\n      <th>0</th>\n      <td>\\n\\nNet Binnen\\nSwitch skinSidebarWillekeurig ...</td>\n      <td>27-05-2023</td>\n      <td>https://www.ninefornews.nl/daar-gaan-we-weer-w...</td>\n      <td>Nine for News</td>\n    </tr>\n    <tr>\n      <th>1</th>\n      <td>\\n\\nNet Binnen\\nSwitch skinSidebarWillekeurig ...</td>\n      <td>27-05-2023</td>\n      <td>https://www.ninefornews.nl/kijk-gevaccineerde-...</td>\n      <td>Nine for News</td>\n    </tr>\n    <tr>\n      <th>2</th>\n      <td>\\n\\nNet Binnen\\nSwitch skinSidebarWillekeurig ...</td>\n      <td>27-05-2023</td>\n      <td>https://www.ninefornews.nl/advocaat-start-same...</td>\n      <td>Nine for News</td>\n    </tr>\n    <tr>\n      <th>3</th>\n      <td>\\n\\nNet Binnen\\nSwitch skinSidebarWillekeurig ...</td>\n      <td>27-05-2023</td>\n      <td>https://www.ninefornews.nl/aivd-gebruikt-nepfo...</td>\n      <td>Nine for News</td>\n    </tr>\n    <tr>\n      <th>4</th>\n      <td>\\n\\nNet Binnen\\nSwitch skinSidebarWillekeurig ...</td>\n      <td>26-05-2023</td>\n      <td>https://www.ninefornews.nl/oud-vvder-doet-boek...</td>\n      <td>Nine for News</td>\n    </tr>\n    <tr>\n      <th>...</th>\n      <td>...</td>\n      <td>...</td>\n      <td>...</td>\n      <td>...</td>\n    </tr>\n    <tr>\n      <th>643</th>\n      <td>\\n\\nNet Binnen\\nSwitch skinSidebarWillekeurig ...</td>\n      <td>20-07-2016</td>\n      <td>https://www.ninefornews.nl/chemtrails-een-goed...</td>\n      <td>Nine for News</td>\n    </tr>\n    <tr>\n      <th>644</th>\n      <td>\\n\\nNet Binnen\\nSwitch skinSidebarWillekeurig ...</td>\n      <td>8-07-2016</td>\n      <td>https://www.ninefornews.nl/politicus-regering-...</td>\n      <td>Nine for News</td>\n    </tr>\n    <tr>\n      <th>645</th>\n      <td>\\n\\nNet Binnen\\nSwitch skinSidebarWillekeurig ...</td>\n      <td>1-07-2016</td>\n      <td>https://www.ninefornews.nl/chemtrails-vliegtui...</td>\n      <td>Nine for News</td>\n    </tr>\n    <tr>\n      <th>646</th>\n      <td>\\n\\nNet Binnen\\nSwitch skinSidebarWillekeurig ...</td>\n      <td>26-05-2016</td>\n      <td>https://www.ninefornews.nl/expert-deze-beelden...</td>\n      <td>Nine for News</td>\n    </tr>\n    <tr>\n      <th>647</th>\n      <td>\\n\\nNet Binnen\\nSwitch skinSidebarWillekeurig ...</td>\n      <td>23-05-2016</td>\n      <td>https://www.ninefornews.nl/chemtrails-sproeien...</td>\n      <td>Nine for News</td>\n    </tr>\n  </tbody>\n</table>\n<p>343 rows × 4 columns</p>\n</div>"
     },
     "execution_count": 153,
     "metadata": {},
     "output_type": "execute_result"
    }
   ],
   "source": [
    "df_nine_for_news = pd.read_csv('nine_for_news_clean.csv').drop(['index'], axis=1).dropna()\n",
    "df_nine_for_news['source'] = 'Nine for News'\n",
    "\n",
    "# Filter all non-article entries\n",
    "df_nine_for_news = df_nine_for_news[df_nine_for_news['url'].str.contains(\"2008|2009|2010|2011|2012|2013|2014|2015|2016|2017|2018|2019|2020|2021|2022|2023|tag|categorie|page\")==False]\n",
    "\n",
    "\n",
    "df_nine_for_news"
   ],
   "metadata": {
    "collapsed": false
   }
  },
  {
   "cell_type": "code",
   "execution_count": 154,
   "outputs": [
    {
     "data": {
      "text/plain": "                                                 text       date   \n0   IndyMedia\\n\\n\\n\\n\\n\\n\\n\\n\\n\\nSteun Indymedia N...  19-5-2023  \\\n1   IndyMedia\\n\\n\\n\\n\\n\\n\\n\\n\\n\\nSteun Indymedia N...  17-5-2023   \n2   IndyMedia\\n\\n\\n\\n\\n\\n\\n\\n\\n\\nSteun Indymedia N...  13-5-2023   \n3   IndyMedia\\n\\n\\n\\n\\n\\n\\n\\n\\n\\nSteun Indymedia N...  5-12-2023   \n4   IndyMedia\\n\\n\\n\\n\\n\\n\\n\\n\\n\\nSteun Indymedia N...   5-5-2023   \n..                                                ...        ...   \n77  IndyMedia\\n\\n\\n\\n\\n\\n\\n\\n\\n\\nSteun Indymedia N...   5-4-2023   \n78  IndyMedia\\n\\n\\n\\n\\n\\n\\n\\n\\n\\nSteun Indymedia N...  20-3-2023   \n79  IndyMedia\\n\\n\\n\\n\\n\\n\\n\\n\\n\\nSteun Indymedia N...  19-5-2023   \n80  IndyMedia\\n\\n\\n\\n\\n\\n\\n\\n\\n\\nSteun Indymedia N...  5-10-2023   \n81  IndyMedia\\n\\n\\n\\n\\n\\n\\n\\n\\n\\nSteun Indymedia N...  20-5-2023   \n\n                                    url      source  \n0   https://www.indymedia.nl/node/53410  Indy media  \n1   https://www.indymedia.nl/node/53399  Indy media  \n2   https://www.indymedia.nl/node/53386  Indy media  \n3   https://www.indymedia.nl/node/53377  Indy media  \n4   https://www.indymedia.nl/node/53361  Indy media  \n..                                  ...         ...  \n77  https://www.indymedia.nl/node/53356  Indy media  \n78  https://www.indymedia.nl/node/53182  Indy media  \n79  https://www.indymedia.nl/node/53414  Indy media  \n80  https://www.indymedia.nl/node/53371  Indy media  \n81  https://www.indymedia.nl/node/53419  Indy media  \n\n[82 rows x 4 columns]",
      "text/html": "<div>\n<style scoped>\n    .dataframe tbody tr th:only-of-type {\n        vertical-align: middle;\n    }\n\n    .dataframe tbody tr th {\n        vertical-align: top;\n    }\n\n    .dataframe thead th {\n        text-align: right;\n    }\n</style>\n<table border=\"1\" class=\"dataframe\">\n  <thead>\n    <tr style=\"text-align: right;\">\n      <th></th>\n      <th>text</th>\n      <th>date</th>\n      <th>url</th>\n      <th>source</th>\n    </tr>\n  </thead>\n  <tbody>\n    <tr>\n      <th>0</th>\n      <td>IndyMedia\\n\\n\\n\\n\\n\\n\\n\\n\\n\\nSteun Indymedia N...</td>\n      <td>19-5-2023</td>\n      <td>https://www.indymedia.nl/node/53410</td>\n      <td>Indy media</td>\n    </tr>\n    <tr>\n      <th>1</th>\n      <td>IndyMedia\\n\\n\\n\\n\\n\\n\\n\\n\\n\\nSteun Indymedia N...</td>\n      <td>17-5-2023</td>\n      <td>https://www.indymedia.nl/node/53399</td>\n      <td>Indy media</td>\n    </tr>\n    <tr>\n      <th>2</th>\n      <td>IndyMedia\\n\\n\\n\\n\\n\\n\\n\\n\\n\\nSteun Indymedia N...</td>\n      <td>13-5-2023</td>\n      <td>https://www.indymedia.nl/node/53386</td>\n      <td>Indy media</td>\n    </tr>\n    <tr>\n      <th>3</th>\n      <td>IndyMedia\\n\\n\\n\\n\\n\\n\\n\\n\\n\\nSteun Indymedia N...</td>\n      <td>5-12-2023</td>\n      <td>https://www.indymedia.nl/node/53377</td>\n      <td>Indy media</td>\n    </tr>\n    <tr>\n      <th>4</th>\n      <td>IndyMedia\\n\\n\\n\\n\\n\\n\\n\\n\\n\\nSteun Indymedia N...</td>\n      <td>5-5-2023</td>\n      <td>https://www.indymedia.nl/node/53361</td>\n      <td>Indy media</td>\n    </tr>\n    <tr>\n      <th>...</th>\n      <td>...</td>\n      <td>...</td>\n      <td>...</td>\n      <td>...</td>\n    </tr>\n    <tr>\n      <th>77</th>\n      <td>IndyMedia\\n\\n\\n\\n\\n\\n\\n\\n\\n\\nSteun Indymedia N...</td>\n      <td>5-4-2023</td>\n      <td>https://www.indymedia.nl/node/53356</td>\n      <td>Indy media</td>\n    </tr>\n    <tr>\n      <th>78</th>\n      <td>IndyMedia\\n\\n\\n\\n\\n\\n\\n\\n\\n\\nSteun Indymedia N...</td>\n      <td>20-3-2023</td>\n      <td>https://www.indymedia.nl/node/53182</td>\n      <td>Indy media</td>\n    </tr>\n    <tr>\n      <th>79</th>\n      <td>IndyMedia\\n\\n\\n\\n\\n\\n\\n\\n\\n\\nSteun Indymedia N...</td>\n      <td>19-5-2023</td>\n      <td>https://www.indymedia.nl/node/53414</td>\n      <td>Indy media</td>\n    </tr>\n    <tr>\n      <th>80</th>\n      <td>IndyMedia\\n\\n\\n\\n\\n\\n\\n\\n\\n\\nSteun Indymedia N...</td>\n      <td>5-10-2023</td>\n      <td>https://www.indymedia.nl/node/53371</td>\n      <td>Indy media</td>\n    </tr>\n    <tr>\n      <th>81</th>\n      <td>IndyMedia\\n\\n\\n\\n\\n\\n\\n\\n\\n\\nSteun Indymedia N...</td>\n      <td>20-5-2023</td>\n      <td>https://www.indymedia.nl/node/53419</td>\n      <td>Indy media</td>\n    </tr>\n  </tbody>\n</table>\n<p>82 rows × 4 columns</p>\n</div>"
     },
     "execution_count": 154,
     "metadata": {},
     "output_type": "execute_result"
    }
   ],
   "source": [
    "df_indymedia= pd.read_csv('indymedia_clean.csv').drop(['Unnamed: 0', 'index'], axis=1).dropna()\n",
    "df_indymedia['source'] = 'Indy media'\n",
    "\n",
    "# Filter all non-article entries\n",
    "df_indymedia = df_indymedia[df_indymedia['url'].str.contains(\"node\")==True]\n",
    "df_indymedia"
   ],
   "metadata": {
    "collapsed": false
   }
  },
  {
   "cell_type": "code",
   "execution_count": 155,
   "outputs": [
    {
     "data": {
      "text/plain": "                                                 text       date   \n0   Toggle navigationInfoHet heeft er alle schijn ...  27-5-2023  \\\n1   Toggle navigationInfoHet heeft er alle schijn ...  27-5-2023   \n2   Toggle navigationInfoVoordat zo goed als alle ...  27-5-2023   \n3   Toggle navigationInfo Sommigen zullen het toev...  27-5-2023   \n4   Toggle navigationInfo De AIVD waarschuwt voor ...  26-5-2023   \n..                                                ...        ...   \n93  Toggle navigationInfo Misschien wordt het eind...  23-4-2023   \n94  Ministers liegen alsof het gedrukt staat en de...  23-5-2023   \n95  Toggle navigationInfoDe nep coronapandemie lig...  14-5-2023   \n96  Toggle navigationInfoDit is het niet, omdat he...  19-7-2021   \n97  Toggle navigationInfoOndanks de vele waarschuw...  23-5-2023   \n\n                                                  url  source  \n0                                  https://niburu.co/  Niburu  \n1   https://niburu.co/binnenland/18595-er-lijkt-ie...  Niburu  \n2   https://niburu.co/het-complot/18594-complotden...  Niburu  \n3   https://niburu.co/het-complot/18593-nieuwe-asi...  Niburu  \n4   https://niburu.co/het-complot/18591-gaat-overh...  Niburu  \n..                                                ...     ...  \n93  https://niburu.co/het-complot/18493-red-de-pla...  Niburu  \n94  https://niburu.co/binnenland/18583-steeds-meer...  Niburu  \n95  https://niburu.co/het-complot/18555-tijdlijn-n...  Niburu  \n96  https://niburu.co/binnenland/16500-het-parleme...  Niburu  \n97  https://niburu.co/37-artikelen/wereld/18582-le...  Niburu  \n\n[88 rows x 4 columns]",
      "text/html": "<div>\n<style scoped>\n    .dataframe tbody tr th:only-of-type {\n        vertical-align: middle;\n    }\n\n    .dataframe tbody tr th {\n        vertical-align: top;\n    }\n\n    .dataframe thead th {\n        text-align: right;\n    }\n</style>\n<table border=\"1\" class=\"dataframe\">\n  <thead>\n    <tr style=\"text-align: right;\">\n      <th></th>\n      <th>text</th>\n      <th>date</th>\n      <th>url</th>\n      <th>source</th>\n    </tr>\n  </thead>\n  <tbody>\n    <tr>\n      <th>0</th>\n      <td>Toggle navigationInfoHet heeft er alle schijn ...</td>\n      <td>27-5-2023</td>\n      <td>https://niburu.co/</td>\n      <td>Niburu</td>\n    </tr>\n    <tr>\n      <th>1</th>\n      <td>Toggle navigationInfoHet heeft er alle schijn ...</td>\n      <td>27-5-2023</td>\n      <td>https://niburu.co/binnenland/18595-er-lijkt-ie...</td>\n      <td>Niburu</td>\n    </tr>\n    <tr>\n      <th>2</th>\n      <td>Toggle navigationInfoVoordat zo goed als alle ...</td>\n      <td>27-5-2023</td>\n      <td>https://niburu.co/het-complot/18594-complotden...</td>\n      <td>Niburu</td>\n    </tr>\n    <tr>\n      <th>3</th>\n      <td>Toggle navigationInfo Sommigen zullen het toev...</td>\n      <td>27-5-2023</td>\n      <td>https://niburu.co/het-complot/18593-nieuwe-asi...</td>\n      <td>Niburu</td>\n    </tr>\n    <tr>\n      <th>4</th>\n      <td>Toggle navigationInfo De AIVD waarschuwt voor ...</td>\n      <td>26-5-2023</td>\n      <td>https://niburu.co/het-complot/18591-gaat-overh...</td>\n      <td>Niburu</td>\n    </tr>\n    <tr>\n      <th>...</th>\n      <td>...</td>\n      <td>...</td>\n      <td>...</td>\n      <td>...</td>\n    </tr>\n    <tr>\n      <th>93</th>\n      <td>Toggle navigationInfo Misschien wordt het eind...</td>\n      <td>23-4-2023</td>\n      <td>https://niburu.co/het-complot/18493-red-de-pla...</td>\n      <td>Niburu</td>\n    </tr>\n    <tr>\n      <th>94</th>\n      <td>Ministers liegen alsof het gedrukt staat en de...</td>\n      <td>23-5-2023</td>\n      <td>https://niburu.co/binnenland/18583-steeds-meer...</td>\n      <td>Niburu</td>\n    </tr>\n    <tr>\n      <th>95</th>\n      <td>Toggle navigationInfoDe nep coronapandemie lig...</td>\n      <td>14-5-2023</td>\n      <td>https://niburu.co/het-complot/18555-tijdlijn-n...</td>\n      <td>Niburu</td>\n    </tr>\n    <tr>\n      <th>96</th>\n      <td>Toggle navigationInfoDit is het niet, omdat he...</td>\n      <td>19-7-2021</td>\n      <td>https://niburu.co/binnenland/16500-het-parleme...</td>\n      <td>Niburu</td>\n    </tr>\n    <tr>\n      <th>97</th>\n      <td>Toggle navigationInfoOndanks de vele waarschuw...</td>\n      <td>23-5-2023</td>\n      <td>https://niburu.co/37-artikelen/wereld/18582-le...</td>\n      <td>Niburu</td>\n    </tr>\n  </tbody>\n</table>\n<p>88 rows × 4 columns</p>\n</div>"
     },
     "execution_count": 155,
     "metadata": {},
     "output_type": "execute_result"
    }
   ],
   "source": [
    "df_niburu = pd.read_csv('niburu_clean.csv').drop(['Unnamed: 0', 'index'], axis=1).dropna()\n",
    "df_niburu['source'] = 'Niburu'\n",
    "\n",
    "# Filter all non-article entries\n",
    "df_niburu = df_niburu[df_niburu['url'].str.contains(\"start\")==False]\n",
    "df_niburu"
   ],
   "metadata": {
    "collapsed": false
   }
  },
  {
   "cell_type": "markdown",
   "source": [
    "### Privacynews doesn't really have any extreme content as it is only concerned with news about privacy"
   ],
   "metadata": {
    "collapsed": false
   }
  },
  {
   "cell_type": "code",
   "execution_count": 111,
   "outputs": [
    {
     "data": {
      "text/plain": "35020"
     },
     "execution_count": 111,
     "metadata": {},
     "output_type": "execute_result"
    }
   ],
   "source": [
    "# df_privacynieuws = pd.read_csv('privacynieuws_clean.csv').drop(['Unnamed: 0', 'index'], axis=1).dropna()\n",
    "# df_privacynieuws['source'] = 'Privacy nieuws'\n",
    "# find_max_len(df_privacynieuws)"
   ],
   "metadata": {
    "collapsed": false
   }
  },
  {
   "cell_type": "code",
   "execution_count": 157,
   "outputs": [
    {
     "data": {
      "text/plain": "                                                  text        date   \n1    \\n\\n\\n\\nWelcome!ZoekFrontnieuws\\n\\n\\n\\nCOVID-1...   27-5-2023  \\\n7    \\n\\n\\n\\nWelcome!ZoekFrontnieuws\\n\\n\\n\\n -  - A...   27-5-2023   \n8    \\n\\n\\n\\nWelcome!ZoekFrontnieuws\\n\\n\\n\\n5DEen v...   27-5-2023   \n9    \\n\\n\\n\\nWelcome!ZoekFrontnieuws\\n\\n\\n\\nFrontni...   27-5-2023   \n10   \\n\\n\\n\\nWelcome!ZoekFrontnieuws\\n\\n\\n\\n1237DHe...   27-5-2023   \n..                                                 ...         ...   \n491  \\n\\n\\n\\nWelcome!ZoekFrontnieuws\\n\\n\\n\\n3300UEe...   29-4-2021   \n493  \\n\\n\\n\\nWelcome!ZoekFrontnieuws\\n\\n\\n\\n9229BDe...   15-9-2022   \n495  \\n\\n\\n\\nWelcome!ZoekFrontnieuws\\n\\n\\n\\n8741EHe...  12-10-2021   \n497  \\n\\n\\n\\nWelcome!ZoekFrontnieuws\\n\\n\\n\\n6390DIk...   23-8-2022   \n499  \\n\\n\\n\\nWelcome!ZoekFrontnieuws\\n\\n\\n\\n744De o...    6-7-2020   \n\n                                                   url       source  \n1       https://www.frontnieuws.com/covid-19-cartoons/  Frontnieuws  \n7                         https://www.frontnieuws.com/  Frontnieuws  \n8    https://www.frontnieuws.com/hoe-het-westen-ver...  Frontnieuws  \n9    https://www.frontnieuws.com/author/frontnieuws...  Frontnieuws  \n10   https://www.frontnieuws.com/russische-tanks-be...  Frontnieuws  \n..                                                 ...          ...  \n491  https://www.frontnieuws.com/65-studies-tonen-a...  Frontnieuws  \n493  https://www.frontnieuws.com/kijk-eu-parlements...  Frontnieuws  \n495  https://www.frontnieuws.com/gevaccineerde-pilo...  Frontnieuws  \n497  https://www.frontnieuws.com/in-het-hoofd-van-e...  Frontnieuws  \n499  https://www.frontnieuws.com/politie-in-het-vk-...  Frontnieuws  \n\n[251 rows x 4 columns]",
      "text/html": "<div>\n<style scoped>\n    .dataframe tbody tr th:only-of-type {\n        vertical-align: middle;\n    }\n\n    .dataframe tbody tr th {\n        vertical-align: top;\n    }\n\n    .dataframe thead th {\n        text-align: right;\n    }\n</style>\n<table border=\"1\" class=\"dataframe\">\n  <thead>\n    <tr style=\"text-align: right;\">\n      <th></th>\n      <th>text</th>\n      <th>date</th>\n      <th>url</th>\n      <th>source</th>\n    </tr>\n  </thead>\n  <tbody>\n    <tr>\n      <th>1</th>\n      <td>\\n\\n\\n\\nWelcome!ZoekFrontnieuws\\n\\n\\n\\nCOVID-1...</td>\n      <td>27-5-2023</td>\n      <td>https://www.frontnieuws.com/covid-19-cartoons/</td>\n      <td>Frontnieuws</td>\n    </tr>\n    <tr>\n      <th>7</th>\n      <td>\\n\\n\\n\\nWelcome!ZoekFrontnieuws\\n\\n\\n\\n -  - A...</td>\n      <td>27-5-2023</td>\n      <td>https://www.frontnieuws.com/</td>\n      <td>Frontnieuws</td>\n    </tr>\n    <tr>\n      <th>8</th>\n      <td>\\n\\n\\n\\nWelcome!ZoekFrontnieuws\\n\\n\\n\\n5DEen v...</td>\n      <td>27-5-2023</td>\n      <td>https://www.frontnieuws.com/hoe-het-westen-ver...</td>\n      <td>Frontnieuws</td>\n    </tr>\n    <tr>\n      <th>9</th>\n      <td>\\n\\n\\n\\nWelcome!ZoekFrontnieuws\\n\\n\\n\\nFrontni...</td>\n      <td>27-5-2023</td>\n      <td>https://www.frontnieuws.com/author/frontnieuws...</td>\n      <td>Frontnieuws</td>\n    </tr>\n    <tr>\n      <th>10</th>\n      <td>\\n\\n\\n\\nWelcome!ZoekFrontnieuws\\n\\n\\n\\n1237DHe...</td>\n      <td>27-5-2023</td>\n      <td>https://www.frontnieuws.com/russische-tanks-be...</td>\n      <td>Frontnieuws</td>\n    </tr>\n    <tr>\n      <th>...</th>\n      <td>...</td>\n      <td>...</td>\n      <td>...</td>\n      <td>...</td>\n    </tr>\n    <tr>\n      <th>491</th>\n      <td>\\n\\n\\n\\nWelcome!ZoekFrontnieuws\\n\\n\\n\\n3300UEe...</td>\n      <td>29-4-2021</td>\n      <td>https://www.frontnieuws.com/65-studies-tonen-a...</td>\n      <td>Frontnieuws</td>\n    </tr>\n    <tr>\n      <th>493</th>\n      <td>\\n\\n\\n\\nWelcome!ZoekFrontnieuws\\n\\n\\n\\n9229BDe...</td>\n      <td>15-9-2022</td>\n      <td>https://www.frontnieuws.com/kijk-eu-parlements...</td>\n      <td>Frontnieuws</td>\n    </tr>\n    <tr>\n      <th>495</th>\n      <td>\\n\\n\\n\\nWelcome!ZoekFrontnieuws\\n\\n\\n\\n8741EHe...</td>\n      <td>12-10-2021</td>\n      <td>https://www.frontnieuws.com/gevaccineerde-pilo...</td>\n      <td>Frontnieuws</td>\n    </tr>\n    <tr>\n      <th>497</th>\n      <td>\\n\\n\\n\\nWelcome!ZoekFrontnieuws\\n\\n\\n\\n6390DIk...</td>\n      <td>23-8-2022</td>\n      <td>https://www.frontnieuws.com/in-het-hoofd-van-e...</td>\n      <td>Frontnieuws</td>\n    </tr>\n    <tr>\n      <th>499</th>\n      <td>\\n\\n\\n\\nWelcome!ZoekFrontnieuws\\n\\n\\n\\n744De o...</td>\n      <td>6-7-2020</td>\n      <td>https://www.frontnieuws.com/politie-in-het-vk-...</td>\n      <td>Frontnieuws</td>\n    </tr>\n  </tbody>\n</table>\n<p>251 rows × 4 columns</p>\n</div>"
     },
     "execution_count": 157,
     "metadata": {},
     "output_type": "execute_result"
    }
   ],
   "source": [
    "df_frontnieuws = pd.read_csv('frontnieuws_clean.csv').drop(['Unnamed: 0', 'index'], axis=1).dropna()\n",
    "df_frontnieuws['source'] = 'Frontnieuws'\n",
    "\n",
    "# Filter all non-article entries\n",
    "df_frontnieuws= df_frontnieuws[df_frontnieuws['url'].str.contains(\"category|#comments\")==False]\n",
    "df_frontnieuws"
   ],
   "metadata": {
    "collapsed": false
   }
  },
  {
   "cell_type": "markdown",
   "source": [
    "# Skipping these for now as there is no date info available\n",
    "The dataset is also quite large already. We don't want the GPT costs to be too high."
   ],
   "metadata": {
    "collapsed": false
   }
  },
  {
   "cell_type": "code",
   "execution_count": 110,
   "outputs": [
    {
     "data": {
      "text/plain": "2678"
     },
     "execution_count": 110,
     "metadata": {},
     "output_type": "execute_result"
    }
   ],
   "source": [
    "df_de_andere_krant = pd.read_csv('results_de_andere_krant.csv').dropna()\n",
    "df_de_andere_krant\n",
    "find_max_len(df_de_andere_krant)"
   ],
   "metadata": {
    "collapsed": false
   }
  },
  {
   "cell_type": "code",
   "execution_count": 109,
   "outputs": [
    {
     "data": {
      "text/plain": "35676"
     },
     "execution_count": 109,
     "metadata": {},
     "output_type": "execute_result"
    }
   ],
   "source": [
    "df_transitieweb = pd.read_csv('results_transitieweb.csv').dropna()\n",
    "df_transitieweb\n",
    "find_max_len(df_transitieweb)"
   ],
   "metadata": {
    "collapsed": false
   }
  },
  {
   "cell_type": "markdown",
   "source": [
    "# Full dataset"
   ],
   "metadata": {
    "collapsed": false
   }
  },
  {
   "cell_type": "code",
   "execution_count": 158,
   "outputs": [
    {
     "data": {
      "text/plain": "                                                  text        date   \n0    \\n\\nNet Binnen\\nSwitch skinSidebarWillekeurig ...  27-05-2023  \\\n1    \\n\\nNet Binnen\\nSwitch skinSidebarWillekeurig ...  27-05-2023   \n2    \\n\\nNet Binnen\\nSwitch skinSidebarWillekeurig ...  27-05-2023   \n3    \\n\\nNet Binnen\\nSwitch skinSidebarWillekeurig ...  27-05-2023   \n4    \\n\\nNet Binnen\\nSwitch skinSidebarWillekeurig ...  26-05-2023   \n..                                                 ...         ...   \n491  \\n\\n\\n\\nWelcome!ZoekFrontnieuws\\n\\n\\n\\n3300UEe...   29-4-2021   \n493  \\n\\n\\n\\nWelcome!ZoekFrontnieuws\\n\\n\\n\\n9229BDe...   15-9-2022   \n495  \\n\\n\\n\\nWelcome!ZoekFrontnieuws\\n\\n\\n\\n8741EHe...  12-10-2021   \n497  \\n\\n\\n\\nWelcome!ZoekFrontnieuws\\n\\n\\n\\n6390DIk...   23-8-2022   \n499  \\n\\n\\n\\nWelcome!ZoekFrontnieuws\\n\\n\\n\\n744De o...    6-7-2020   \n\n                                                   url         source  \n0    https://www.ninefornews.nl/daar-gaan-we-weer-w...  Nine for News  \n1    https://www.ninefornews.nl/kijk-gevaccineerde-...  Nine for News  \n2    https://www.ninefornews.nl/advocaat-start-same...  Nine for News  \n3    https://www.ninefornews.nl/aivd-gebruikt-nepfo...  Nine for News  \n4    https://www.ninefornews.nl/oud-vvder-doet-boek...  Nine for News  \n..                                                 ...            ...  \n491  https://www.frontnieuws.com/65-studies-tonen-a...    Frontnieuws  \n493  https://www.frontnieuws.com/kijk-eu-parlements...    Frontnieuws  \n495  https://www.frontnieuws.com/gevaccineerde-pilo...    Frontnieuws  \n497  https://www.frontnieuws.com/in-het-hoofd-van-e...    Frontnieuws  \n499  https://www.frontnieuws.com/politie-in-het-vk-...    Frontnieuws  \n\n[764 rows x 4 columns]",
      "text/html": "<div>\n<style scoped>\n    .dataframe tbody tr th:only-of-type {\n        vertical-align: middle;\n    }\n\n    .dataframe tbody tr th {\n        vertical-align: top;\n    }\n\n    .dataframe thead th {\n        text-align: right;\n    }\n</style>\n<table border=\"1\" class=\"dataframe\">\n  <thead>\n    <tr style=\"text-align: right;\">\n      <th></th>\n      <th>text</th>\n      <th>date</th>\n      <th>url</th>\n      <th>source</th>\n    </tr>\n  </thead>\n  <tbody>\n    <tr>\n      <th>0</th>\n      <td>\\n\\nNet Binnen\\nSwitch skinSidebarWillekeurig ...</td>\n      <td>27-05-2023</td>\n      <td>https://www.ninefornews.nl/daar-gaan-we-weer-w...</td>\n      <td>Nine for News</td>\n    </tr>\n    <tr>\n      <th>1</th>\n      <td>\\n\\nNet Binnen\\nSwitch skinSidebarWillekeurig ...</td>\n      <td>27-05-2023</td>\n      <td>https://www.ninefornews.nl/kijk-gevaccineerde-...</td>\n      <td>Nine for News</td>\n    </tr>\n    <tr>\n      <th>2</th>\n      <td>\\n\\nNet Binnen\\nSwitch skinSidebarWillekeurig ...</td>\n      <td>27-05-2023</td>\n      <td>https://www.ninefornews.nl/advocaat-start-same...</td>\n      <td>Nine for News</td>\n    </tr>\n    <tr>\n      <th>3</th>\n      <td>\\n\\nNet Binnen\\nSwitch skinSidebarWillekeurig ...</td>\n      <td>27-05-2023</td>\n      <td>https://www.ninefornews.nl/aivd-gebruikt-nepfo...</td>\n      <td>Nine for News</td>\n    </tr>\n    <tr>\n      <th>4</th>\n      <td>\\n\\nNet Binnen\\nSwitch skinSidebarWillekeurig ...</td>\n      <td>26-05-2023</td>\n      <td>https://www.ninefornews.nl/oud-vvder-doet-boek...</td>\n      <td>Nine for News</td>\n    </tr>\n    <tr>\n      <th>...</th>\n      <td>...</td>\n      <td>...</td>\n      <td>...</td>\n      <td>...</td>\n    </tr>\n    <tr>\n      <th>491</th>\n      <td>\\n\\n\\n\\nWelcome!ZoekFrontnieuws\\n\\n\\n\\n3300UEe...</td>\n      <td>29-4-2021</td>\n      <td>https://www.frontnieuws.com/65-studies-tonen-a...</td>\n      <td>Frontnieuws</td>\n    </tr>\n    <tr>\n      <th>493</th>\n      <td>\\n\\n\\n\\nWelcome!ZoekFrontnieuws\\n\\n\\n\\n9229BDe...</td>\n      <td>15-9-2022</td>\n      <td>https://www.frontnieuws.com/kijk-eu-parlements...</td>\n      <td>Frontnieuws</td>\n    </tr>\n    <tr>\n      <th>495</th>\n      <td>\\n\\n\\n\\nWelcome!ZoekFrontnieuws\\n\\n\\n\\n8741EHe...</td>\n      <td>12-10-2021</td>\n      <td>https://www.frontnieuws.com/gevaccineerde-pilo...</td>\n      <td>Frontnieuws</td>\n    </tr>\n    <tr>\n      <th>497</th>\n      <td>\\n\\n\\n\\nWelcome!ZoekFrontnieuws\\n\\n\\n\\n6390DIk...</td>\n      <td>23-8-2022</td>\n      <td>https://www.frontnieuws.com/in-het-hoofd-van-e...</td>\n      <td>Frontnieuws</td>\n    </tr>\n    <tr>\n      <th>499</th>\n      <td>\\n\\n\\n\\nWelcome!ZoekFrontnieuws\\n\\n\\n\\n744De o...</td>\n      <td>6-7-2020</td>\n      <td>https://www.frontnieuws.com/politie-in-het-vk-...</td>\n      <td>Frontnieuws</td>\n    </tr>\n  </tbody>\n</table>\n<p>764 rows × 4 columns</p>\n</div>"
     },
     "execution_count": 158,
     "metadata": {},
     "output_type": "execute_result"
    }
   ],
   "source": [
    "frames = [df_nine_for_news, df_indymedia, df_niburu, df_frontnieuws]\n",
    "final_df = pd.concat(frames)\n",
    "final_df"
   ],
   "metadata": {
    "collapsed": false
   }
  },
  {
   "cell_type": "markdown",
   "source": [
    "# GPT\n",
    "## Tokenizing"
   ],
   "metadata": {
    "collapsed": false
   }
  },
  {
   "cell_type": "code",
   "execution_count": 159,
   "outputs": [],
   "source": [
    "def tokenize_text(df):\n",
    "    for i, row in enumerate(df):\n",
    "        text = df['text'][i]\n",
    "        tokenizer = tiktoken.encoding_for_model('gpt-3.5-turbo')\n",
    "        encoded_text = tokenizer.encode(text)\n",
    "\n",
    "        # Max amount of tokens for a request is a little more than 4000\n",
    "        # this includes both the text and the instructions given to GPT\n",
    "        # Lets remove the texts > 3000 tokens\n",
    "        if len(encoded_text) > 3000:\n",
    "            encoded_text = pd.NA\n",
    "\n",
    "    return encoded_text"
   ],
   "metadata": {
    "collapsed": false
   }
  },
  {
   "cell_type": "code",
   "execution_count": 185,
   "outputs": [],
   "source": [
    "def tokenize_text(df):\n",
    "    for i, row in enumerate(df['text']):\n",
    "        text = str(row)\n",
    "        tokenizer = tiktoken.encoding_for_model('gpt-3.5-turbo')\n",
    "        encoded_text = tokenizer.encode(text)\n",
    "\n",
    "        # Max amount of tokens for a request is a little more than 4000\n",
    "        # this includes both the text and the instructions given to GPT\n",
    "        # Lets remove the texts > 3000 tokens\n",
    "        if len(encoded_text) > 3000:\n",
    "            encoded_text = pd.NA\n",
    "\n",
    "        df['encoded text'][i] = encoded_text\n",
    "\n",
    "    return df"
   ],
   "metadata": {
    "collapsed": false
   }
  },
  {
   "cell_type": "code",
   "execution_count": 192,
   "outputs": [
    {
     "name": "stderr",
     "output_type": "stream",
     "text": [
      "C:\\Users\\ceesm\\AppData\\Local\\Temp\\ipykernel_5308\\4214078122.py:2: SettingWithCopyWarning: \n",
      "A value is trying to be set on a copy of a slice from a DataFrame.\n",
      "Try using .loc[row_indexer,col_indexer] = value instead\n",
      "\n",
      "See the caveats in the documentation: https://pandas.pydata.org/pandas-docs/stable/user_guide/indexing.html#returning-a-view-versus-a-copy\n",
      "  test['encoded text'] = ''\n",
      "C:\\Users\\ceesm\\AppData\\Local\\Temp\\ipykernel_5308\\3694886075.py:13: SettingWithCopyWarning: \n",
      "A value is trying to be set on a copy of a slice from a DataFrame\n",
      "\n",
      "See the caveats in the documentation: https://pandas.pydata.org/pandas-docs/stable/user_guide/indexing.html#returning-a-view-versus-a-copy\n",
      "  df['encoded text'][i] = encoded_text\n",
      "C:\\Users\\ceesm\\AppData\\Local\\Temp\\ipykernel_5308\\3694886075.py:13: SettingWithCopyWarning: \n",
      "A value is trying to be set on a copy of a slice from a DataFrame\n",
      "\n",
      "See the caveats in the documentation: https://pandas.pydata.org/pandas-docs/stable/user_guide/indexing.html#returning-a-view-versus-a-copy\n",
      "  df['encoded text'][i] = encoded_text\n",
      "C:\\Users\\ceesm\\AppData\\Local\\Temp\\ipykernel_5308\\3694886075.py:13: SettingWithCopyWarning: \n",
      "A value is trying to be set on a copy of a slice from a DataFrame\n",
      "\n",
      "See the caveats in the documentation: https://pandas.pydata.org/pandas-docs/stable/user_guide/indexing.html#returning-a-view-versus-a-copy\n",
      "  df['encoded text'][i] = encoded_text\n",
      "C:\\Users\\ceesm\\AppData\\Local\\Temp\\ipykernel_5308\\3694886075.py:13: SettingWithCopyWarning: \n",
      "A value is trying to be set on a copy of a slice from a DataFrame\n",
      "\n",
      "See the caveats in the documentation: https://pandas.pydata.org/pandas-docs/stable/user_guide/indexing.html#returning-a-view-versus-a-copy\n",
      "  df['encoded text'][i] = encoded_text\n",
      "C:\\Users\\ceesm\\AppData\\Local\\Temp\\ipykernel_5308\\3694886075.py:13: SettingWithCopyWarning: \n",
      "A value is trying to be set on a copy of a slice from a DataFrame\n",
      "\n",
      "See the caveats in the documentation: https://pandas.pydata.org/pandas-docs/stable/user_guide/indexing.html#returning-a-view-versus-a-copy\n",
      "  df['encoded text'][i] = encoded_text\n",
      "C:\\Users\\ceesm\\AppData\\Local\\Temp\\ipykernel_5308\\3694886075.py:13: SettingWithCopyWarning: \n",
      "A value is trying to be set on a copy of a slice from a DataFrame\n",
      "\n",
      "See the caveats in the documentation: https://pandas.pydata.org/pandas-docs/stable/user_guide/indexing.html#returning-a-view-versus-a-copy\n",
      "  df['encoded text'][i] = encoded_text\n",
      "C:\\Users\\ceesm\\AppData\\Local\\Temp\\ipykernel_5308\\3694886075.py:13: SettingWithCopyWarning: \n",
      "A value is trying to be set on a copy of a slice from a DataFrame\n",
      "\n",
      "See the caveats in the documentation: https://pandas.pydata.org/pandas-docs/stable/user_guide/indexing.html#returning-a-view-versus-a-copy\n",
      "  df['encoded text'][i] = encoded_text\n",
      "C:\\Users\\ceesm\\AppData\\Local\\Temp\\ipykernel_5308\\3694886075.py:13: SettingWithCopyWarning: \n",
      "A value is trying to be set on a copy of a slice from a DataFrame\n",
      "\n",
      "See the caveats in the documentation: https://pandas.pydata.org/pandas-docs/stable/user_guide/indexing.html#returning-a-view-versus-a-copy\n",
      "  df['encoded text'][i] = encoded_text\n",
      "C:\\Users\\ceesm\\AppData\\Local\\Temp\\ipykernel_5308\\3694886075.py:13: SettingWithCopyWarning: \n",
      "A value is trying to be set on a copy of a slice from a DataFrame\n",
      "\n",
      "See the caveats in the documentation: https://pandas.pydata.org/pandas-docs/stable/user_guide/indexing.html#returning-a-view-versus-a-copy\n",
      "  df['encoded text'][i] = encoded_text\n",
      "C:\\Users\\ceesm\\AppData\\Local\\Temp\\ipykernel_5308\\3694886075.py:13: SettingWithCopyWarning: \n",
      "A value is trying to be set on a copy of a slice from a DataFrame\n",
      "\n",
      "See the caveats in the documentation: https://pandas.pydata.org/pandas-docs/stable/user_guide/indexing.html#returning-a-view-versus-a-copy\n",
      "  df['encoded text'][i] = encoded_text\n"
     ]
    },
    {
     "data": {
      "text/plain": "                                                text        date   \n0  \\n\\nNet Binnen\\nSwitch skinSidebarWillekeurig ...  27-05-2023  \\\n1  \\n\\nNet Binnen\\nSwitch skinSidebarWillekeurig ...  27-05-2023   \n2  \\n\\nNet Binnen\\nSwitch skinSidebarWillekeurig ...  27-05-2023   \n3  \\n\\nNet Binnen\\nSwitch skinSidebarWillekeurig ...  27-05-2023   \n4  \\n\\nNet Binnen\\nSwitch skinSidebarWillekeurig ...  26-05-2023   \n5  \\n\\nNet Binnen\\nSwitch skinSidebarWillekeurig ...  26-05-2023   \n6  \\n\\nNet Binnen\\nSwitch skinSidebarWillekeurig ...  26-05-2023   \n7  \\n\\nNet Binnen\\nSwitch skinSidebarWillekeurig ...  26-05-2023   \n8  \\n\\nNet Binnen\\nSwitch skinSidebarWillekeurig ...  26-05-2023   \n9  \\n\\nNet Binnen\\nSwitch skinSidebarWillekeurig ...  26-05-2023   \n\n                                                 url         source   \n0  https://www.ninefornews.nl/daar-gaan-we-weer-w...  Nine for News  \\\n1  https://www.ninefornews.nl/kijk-gevaccineerde-...  Nine for News   \n2  https://www.ninefornews.nl/advocaat-start-same...  Nine for News   \n3  https://www.ninefornews.nl/aivd-gebruikt-nepfo...  Nine for News   \n4  https://www.ninefornews.nl/oud-vvder-doet-boek...  Nine for News   \n5  https://www.ninefornews.nl/femke-halsema-breng...  Nine for News   \n6  https://www.ninefornews.nl/omt-lid-beweert-dat...  Nine for News   \n7  https://www.ninefornews.nl/kijk-klaus-schwab-d...  Nine for News   \n8  https://www.ninefornews.nl/dit-is-de-belangrij...  Nine for News   \n9  https://www.ninefornews.nl/ergernis-om-krokodi...  Nine for News   \n\n  tokenized_text                                       encoded text  \n0                 [271, 7099, 426, 35811, 198, 17259, 6930, 4817...  \n1                 [271, 7099, 426, 35811, 198, 17259, 6930, 4817...  \n2                 [271, 7099, 426, 35811, 198, 17259, 6930, 4817...  \n3                 [271, 7099, 426, 35811, 198, 17259, 6930, 4817...  \n4                 [271, 7099, 426, 35811, 198, 17259, 6930, 4817...  \n5                 [271, 7099, 426, 35811, 198, 17259, 6930, 4817...  \n6                 [271, 7099, 426, 35811, 198, 17259, 6930, 4817...  \n7                 [271, 7099, 426, 35811, 198, 17259, 6930, 4817...  \n8                 [271, 7099, 426, 35811, 198, 17259, 6930, 4817...  \n9                 [271, 7099, 426, 35811, 198, 17259, 6930, 4817...  ",
      "text/html": "<div>\n<style scoped>\n    .dataframe tbody tr th:only-of-type {\n        vertical-align: middle;\n    }\n\n    .dataframe tbody tr th {\n        vertical-align: top;\n    }\n\n    .dataframe thead th {\n        text-align: right;\n    }\n</style>\n<table border=\"1\" class=\"dataframe\">\n  <thead>\n    <tr style=\"text-align: right;\">\n      <th></th>\n      <th>text</th>\n      <th>date</th>\n      <th>url</th>\n      <th>source</th>\n      <th>tokenized_text</th>\n      <th>encoded text</th>\n    </tr>\n  </thead>\n  <tbody>\n    <tr>\n      <th>0</th>\n      <td>\\n\\nNet Binnen\\nSwitch skinSidebarWillekeurig ...</td>\n      <td>27-05-2023</td>\n      <td>https://www.ninefornews.nl/daar-gaan-we-weer-w...</td>\n      <td>Nine for News</td>\n      <td></td>\n      <td>[271, 7099, 426, 35811, 198, 17259, 6930, 4817...</td>\n    </tr>\n    <tr>\n      <th>1</th>\n      <td>\\n\\nNet Binnen\\nSwitch skinSidebarWillekeurig ...</td>\n      <td>27-05-2023</td>\n      <td>https://www.ninefornews.nl/kijk-gevaccineerde-...</td>\n      <td>Nine for News</td>\n      <td></td>\n      <td>[271, 7099, 426, 35811, 198, 17259, 6930, 4817...</td>\n    </tr>\n    <tr>\n      <th>2</th>\n      <td>\\n\\nNet Binnen\\nSwitch skinSidebarWillekeurig ...</td>\n      <td>27-05-2023</td>\n      <td>https://www.ninefornews.nl/advocaat-start-same...</td>\n      <td>Nine for News</td>\n      <td></td>\n      <td>[271, 7099, 426, 35811, 198, 17259, 6930, 4817...</td>\n    </tr>\n    <tr>\n      <th>3</th>\n      <td>\\n\\nNet Binnen\\nSwitch skinSidebarWillekeurig ...</td>\n      <td>27-05-2023</td>\n      <td>https://www.ninefornews.nl/aivd-gebruikt-nepfo...</td>\n      <td>Nine for News</td>\n      <td></td>\n      <td>[271, 7099, 426, 35811, 198, 17259, 6930, 4817...</td>\n    </tr>\n    <tr>\n      <th>4</th>\n      <td>\\n\\nNet Binnen\\nSwitch skinSidebarWillekeurig ...</td>\n      <td>26-05-2023</td>\n      <td>https://www.ninefornews.nl/oud-vvder-doet-boek...</td>\n      <td>Nine for News</td>\n      <td></td>\n      <td>[271, 7099, 426, 35811, 198, 17259, 6930, 4817...</td>\n    </tr>\n    <tr>\n      <th>5</th>\n      <td>\\n\\nNet Binnen\\nSwitch skinSidebarWillekeurig ...</td>\n      <td>26-05-2023</td>\n      <td>https://www.ninefornews.nl/femke-halsema-breng...</td>\n      <td>Nine for News</td>\n      <td></td>\n      <td>[271, 7099, 426, 35811, 198, 17259, 6930, 4817...</td>\n    </tr>\n    <tr>\n      <th>6</th>\n      <td>\\n\\nNet Binnen\\nSwitch skinSidebarWillekeurig ...</td>\n      <td>26-05-2023</td>\n      <td>https://www.ninefornews.nl/omt-lid-beweert-dat...</td>\n      <td>Nine for News</td>\n      <td></td>\n      <td>[271, 7099, 426, 35811, 198, 17259, 6930, 4817...</td>\n    </tr>\n    <tr>\n      <th>7</th>\n      <td>\\n\\nNet Binnen\\nSwitch skinSidebarWillekeurig ...</td>\n      <td>26-05-2023</td>\n      <td>https://www.ninefornews.nl/kijk-klaus-schwab-d...</td>\n      <td>Nine for News</td>\n      <td></td>\n      <td>[271, 7099, 426, 35811, 198, 17259, 6930, 4817...</td>\n    </tr>\n    <tr>\n      <th>8</th>\n      <td>\\n\\nNet Binnen\\nSwitch skinSidebarWillekeurig ...</td>\n      <td>26-05-2023</td>\n      <td>https://www.ninefornews.nl/dit-is-de-belangrij...</td>\n      <td>Nine for News</td>\n      <td></td>\n      <td>[271, 7099, 426, 35811, 198, 17259, 6930, 4817...</td>\n    </tr>\n    <tr>\n      <th>9</th>\n      <td>\\n\\nNet Binnen\\nSwitch skinSidebarWillekeurig ...</td>\n      <td>26-05-2023</td>\n      <td>https://www.ninefornews.nl/ergernis-om-krokodi...</td>\n      <td>Nine for News</td>\n      <td></td>\n      <td>[271, 7099, 426, 35811, 198, 17259, 6930, 4817...</td>\n    </tr>\n  </tbody>\n</table>\n</div>"
     },
     "execution_count": 192,
     "metadata": {},
     "output_type": "execute_result"
    }
   ],
   "source": [
    "test = final_df[0:10]\n",
    "test['encoded text'] = ''\n",
    "tokenize_text(test)"
   ],
   "metadata": {
    "collapsed": false
   }
  },
  {
   "cell_type": "code",
   "execution_count": 193,
   "outputs": [
    {
     "data": {
      "text/plain": "1261"
     },
     "execution_count": 193,
     "metadata": {},
     "output_type": "execute_result"
    }
   ],
   "source": [],
   "metadata": {
    "collapsed": false
   }
  }
 ],
 "metadata": {
  "kernelspec": {
   "display_name": "Python 3",
   "language": "python",
   "name": "python3"
  },
  "language_info": {
   "codemirror_mode": {
    "name": "ipython",
    "version": 2
   },
   "file_extension": ".py",
   "mimetype": "text/x-python",
   "name": "python",
   "nbconvert_exporter": "python",
   "pygments_lexer": "ipython2",
   "version": "2.7.6"
  }
 },
 "nbformat": 4,
 "nbformat_minor": 0
}
