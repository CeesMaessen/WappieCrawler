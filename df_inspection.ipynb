{
 "cells": [
  {
   "cell_type": "code",
   "execution_count": 1,
   "metadata": {
    "collapsed": true
   },
   "outputs": [
    {
     "data": {
      "text/plain": "True"
     },
     "execution_count": 1,
     "metadata": {},
     "output_type": "execute_result"
    }
   ],
   "source": [
    "import pandas as pd\n",
    "pd.options.mode.chained_assignment = None\n",
    "import numpy as np\n",
    "import re\n",
    "import dateutil.parser as dparser\n",
    "from tqdm.notebook import tqdm\n",
    "import tiktoken\n",
    "import openai\n",
    "import os\n",
    "import time\n",
    "from dotenv import load_dotenv\n",
    "load_dotenv()"
   ]
  },
  {
   "cell_type": "code",
   "execution_count": 2,
   "outputs": [],
   "source": [
    "OPENAI_KEY = os.getenv('OPENAI_KEY')\n",
    "openai.api_key = OPENAI_KEY"
   ],
   "metadata": {
    "collapsed": false
   }
  },
  {
   "cell_type": "code",
   "execution_count": 3,
   "outputs": [],
   "source": [
    "def find_max_len(df):\n",
    "    max_len = 0\n",
    "    for text in df['text']:\n",
    "        if len(text) > max_len:\n",
    "            max_len = len(text)\n",
    "    return max_len"
   ],
   "metadata": {
    "collapsed": false
   }
  },
  {
   "cell_type": "markdown",
   "source": [
    "## Dataframes"
   ],
   "metadata": {
    "collapsed": false
   }
  },
  {
   "cell_type": "code",
   "execution_count": 4,
   "outputs": [
    {
     "data": {
      "text/plain": "                                                   text        date   \n0     \\n\\nNet Binnen\\nSwitch skinSidebarWillekeurig ...  28-05-2023  \\\n1     \\n\\nNet Binnen\\nSwitch skinSidebarWillekeurig ...  28-05-2023   \n2     \\n\\nNet Binnen\\nSwitch skinSidebarWillekeurig ...  28-05-2023   \n3     \\n\\nNet Binnen\\nSwitch skinSidebarWillekeurig ...  28-05-2023   \n4     \\n\\nNet Binnen\\nSwitch skinSidebarWillekeurig ...  27-05-2023   \n...                                                 ...         ...   \n1356  \\n\\nNet Binnen\\nSwitch skinSidebarWillekeurig ...  18-10-2019   \n1357  \\n\\nNet Binnen\\nSwitch skinSidebarWillekeurig ...   8-10-2019   \n1358  \\n\\nNet Binnen\\nSwitch skinSidebarWillekeurig ...   7-10-2019   \n1359  \\n\\nNet Binnen\\nSwitch skinSidebarWillekeurig ...   5-10-2019   \n1360  \\n\\nNet Binnen\\nSwitch skinSidebarWillekeurig ...   1-10-2019   \n\n                                                    url         source  \n0     https://www.ninefornews.nl/felle-kritiek-op-fe...  Nine for News  \n1     https://www.ninefornews.nl/bijwerkingencentrum...  Nine for News  \n2     https://www.ninefornews.nl/internet-ontploft-n...  Nine for News  \n3     https://www.ninefornews.nl/ggd-baas-heeft-spij...  Nine for News  \n4     https://www.ninefornews.nl/kijk-europarlementa...  Nine for News  \n...                                                 ...            ...  \n1356  https://www.ninefornews.nl/stad-vandaan-kom-br...  Nine for News  \n1357  https://www.ninefornews.nl/tientallen-ufos-wit...  Nine for News  \n1358  https://www.ninefornews.nl/groot-boeing-737-ge...  Nine for News  \n1359  https://www.ninefornews.nl/vloot-vreemde-objec...  Nine for News  \n1360  https://www.ninefornews.nl/man-vreemde-zwarte-...  Nine for News  \n\n[932 rows x 4 columns]",
      "text/html": "<div>\n<style scoped>\n    .dataframe tbody tr th:only-of-type {\n        vertical-align: middle;\n    }\n\n    .dataframe tbody tr th {\n        vertical-align: top;\n    }\n\n    .dataframe thead th {\n        text-align: right;\n    }\n</style>\n<table border=\"1\" class=\"dataframe\">\n  <thead>\n    <tr style=\"text-align: right;\">\n      <th></th>\n      <th>text</th>\n      <th>date</th>\n      <th>url</th>\n      <th>source</th>\n    </tr>\n  </thead>\n  <tbody>\n    <tr>\n      <th>0</th>\n      <td>\\n\\nNet Binnen\\nSwitch skinSidebarWillekeurig ...</td>\n      <td>28-05-2023</td>\n      <td>https://www.ninefornews.nl/felle-kritiek-op-fe...</td>\n      <td>Nine for News</td>\n    </tr>\n    <tr>\n      <th>1</th>\n      <td>\\n\\nNet Binnen\\nSwitch skinSidebarWillekeurig ...</td>\n      <td>28-05-2023</td>\n      <td>https://www.ninefornews.nl/bijwerkingencentrum...</td>\n      <td>Nine for News</td>\n    </tr>\n    <tr>\n      <th>2</th>\n      <td>\\n\\nNet Binnen\\nSwitch skinSidebarWillekeurig ...</td>\n      <td>28-05-2023</td>\n      <td>https://www.ninefornews.nl/internet-ontploft-n...</td>\n      <td>Nine for News</td>\n    </tr>\n    <tr>\n      <th>3</th>\n      <td>\\n\\nNet Binnen\\nSwitch skinSidebarWillekeurig ...</td>\n      <td>28-05-2023</td>\n      <td>https://www.ninefornews.nl/ggd-baas-heeft-spij...</td>\n      <td>Nine for News</td>\n    </tr>\n    <tr>\n      <th>4</th>\n      <td>\\n\\nNet Binnen\\nSwitch skinSidebarWillekeurig ...</td>\n      <td>27-05-2023</td>\n      <td>https://www.ninefornews.nl/kijk-europarlementa...</td>\n      <td>Nine for News</td>\n    </tr>\n    <tr>\n      <th>...</th>\n      <td>...</td>\n      <td>...</td>\n      <td>...</td>\n      <td>...</td>\n    </tr>\n    <tr>\n      <th>1356</th>\n      <td>\\n\\nNet Binnen\\nSwitch skinSidebarWillekeurig ...</td>\n      <td>18-10-2019</td>\n      <td>https://www.ninefornews.nl/stad-vandaan-kom-br...</td>\n      <td>Nine for News</td>\n    </tr>\n    <tr>\n      <th>1357</th>\n      <td>\\n\\nNet Binnen\\nSwitch skinSidebarWillekeurig ...</td>\n      <td>8-10-2019</td>\n      <td>https://www.ninefornews.nl/tientallen-ufos-wit...</td>\n      <td>Nine for News</td>\n    </tr>\n    <tr>\n      <th>1358</th>\n      <td>\\n\\nNet Binnen\\nSwitch skinSidebarWillekeurig ...</td>\n      <td>7-10-2019</td>\n      <td>https://www.ninefornews.nl/groot-boeing-737-ge...</td>\n      <td>Nine for News</td>\n    </tr>\n    <tr>\n      <th>1359</th>\n      <td>\\n\\nNet Binnen\\nSwitch skinSidebarWillekeurig ...</td>\n      <td>5-10-2019</td>\n      <td>https://www.ninefornews.nl/vloot-vreemde-objec...</td>\n      <td>Nine for News</td>\n    </tr>\n    <tr>\n      <th>1360</th>\n      <td>\\n\\nNet Binnen\\nSwitch skinSidebarWillekeurig ...</td>\n      <td>1-10-2019</td>\n      <td>https://www.ninefornews.nl/man-vreemde-zwarte-...</td>\n      <td>Nine for News</td>\n    </tr>\n  </tbody>\n</table>\n<p>932 rows × 4 columns</p>\n</div>"
     },
     "execution_count": 4,
     "metadata": {},
     "output_type": "execute_result"
    }
   ],
   "source": [
    "df_nine_for_news = pd.read_csv('nine_for_news_clean.csv').drop(['index'], axis=1).dropna()\n",
    "df_nine_for_news['source'] = 'Nine for News'\n",
    "\n",
    "# Filter all non-article entries\n",
    "df_nine_for_news = df_nine_for_news[df_nine_for_news['url'].str.contains(\"2008|2009|2010|2011|2012|2013|2014|2015|2016|2017|2018|2019|2020|2021|2022|2023|tag|categorie|page\")==False]\n",
    "\n",
    "\n",
    "df_nine_for_news"
   ],
   "metadata": {
    "collapsed": false
   }
  },
  {
   "cell_type": "code",
   "execution_count": 5,
   "outputs": [
    {
     "data": {
      "text/plain": "                                                 text       date   \n0   IndyMedia\\n\\n\\n\\n\\n\\n\\n\\n\\n\\nSteun Indymedia N...  18-5-2023  \\\n1   IndyMedia\\n\\n\\n\\n\\n\\n\\n\\n\\n\\nSteun Indymedia N...  16-5-2023   \n2   IndyMedia\\n\\n\\n\\n\\n\\n\\n\\n\\n\\nSteun Indymedia N...  5-11-2023   \n3   IndyMedia\\n\\n\\n\\n\\n\\n\\n\\n\\n\\nSteun Indymedia N...   5-6-2023   \n4   IndyMedia\\n\\n\\n\\n\\n\\n\\n\\n\\n\\nSteun Indymedia N...   5-3-2023   \n..                                                ...        ...   \n57  IndyMedia\\n\\n\\n\\n\\n\\n\\n\\n\\n\\nSteun Indymedia N...  5-10-2023   \n58  IndyMedia\\n\\n\\n\\n\\n\\n\\n\\n\\n\\nSteun Indymedia N...  20-5-2023   \n59  IndyMedia\\n\\n\\n\\n\\n\\n\\n\\n\\n\\nSteun Indymedia N...  16-5-2023   \n60  IndyMedia\\n\\n\\n\\n\\n\\n\\n\\n\\n\\nSteun Indymedia N...  16-5-2023   \n61  IndyMedia\\n\\n\\n\\n\\n\\n\\n\\n\\n\\nSteun Indymedia N...  16-5-2023   \n\n                                                  url      source  \n0                 https://www.indymedia.nl/node/53408  Indy media  \n1                 https://www.indymedia.nl/node/53390  Indy media  \n2                 https://www.indymedia.nl/node/53372  Indy media  \n3                 https://www.indymedia.nl/node/53366  Indy media  \n4                 https://www.indymedia.nl/node/53348  Indy media  \n..                                                ...         ...  \n57                https://www.indymedia.nl/node/53371  Indy media  \n58                https://www.indymedia.nl/node/53419  Indy media  \n59  https://www.indymedia.nl/node/add/comment/5339...  Indy media  \n60                https://www.indymedia.nl/node/53395  Indy media  \n61                https://www.indymedia.nl/node/53396  Indy media  \n\n[62 rows x 4 columns]",
      "text/html": "<div>\n<style scoped>\n    .dataframe tbody tr th:only-of-type {\n        vertical-align: middle;\n    }\n\n    .dataframe tbody tr th {\n        vertical-align: top;\n    }\n\n    .dataframe thead th {\n        text-align: right;\n    }\n</style>\n<table border=\"1\" class=\"dataframe\">\n  <thead>\n    <tr style=\"text-align: right;\">\n      <th></th>\n      <th>text</th>\n      <th>date</th>\n      <th>url</th>\n      <th>source</th>\n    </tr>\n  </thead>\n  <tbody>\n    <tr>\n      <th>0</th>\n      <td>IndyMedia\\n\\n\\n\\n\\n\\n\\n\\n\\n\\nSteun Indymedia N...</td>\n      <td>18-5-2023</td>\n      <td>https://www.indymedia.nl/node/53408</td>\n      <td>Indy media</td>\n    </tr>\n    <tr>\n      <th>1</th>\n      <td>IndyMedia\\n\\n\\n\\n\\n\\n\\n\\n\\n\\nSteun Indymedia N...</td>\n      <td>16-5-2023</td>\n      <td>https://www.indymedia.nl/node/53390</td>\n      <td>Indy media</td>\n    </tr>\n    <tr>\n      <th>2</th>\n      <td>IndyMedia\\n\\n\\n\\n\\n\\n\\n\\n\\n\\nSteun Indymedia N...</td>\n      <td>5-11-2023</td>\n      <td>https://www.indymedia.nl/node/53372</td>\n      <td>Indy media</td>\n    </tr>\n    <tr>\n      <th>3</th>\n      <td>IndyMedia\\n\\n\\n\\n\\n\\n\\n\\n\\n\\nSteun Indymedia N...</td>\n      <td>5-6-2023</td>\n      <td>https://www.indymedia.nl/node/53366</td>\n      <td>Indy media</td>\n    </tr>\n    <tr>\n      <th>4</th>\n      <td>IndyMedia\\n\\n\\n\\n\\n\\n\\n\\n\\n\\nSteun Indymedia N...</td>\n      <td>5-3-2023</td>\n      <td>https://www.indymedia.nl/node/53348</td>\n      <td>Indy media</td>\n    </tr>\n    <tr>\n      <th>...</th>\n      <td>...</td>\n      <td>...</td>\n      <td>...</td>\n      <td>...</td>\n    </tr>\n    <tr>\n      <th>57</th>\n      <td>IndyMedia\\n\\n\\n\\n\\n\\n\\n\\n\\n\\nSteun Indymedia N...</td>\n      <td>5-10-2023</td>\n      <td>https://www.indymedia.nl/node/53371</td>\n      <td>Indy media</td>\n    </tr>\n    <tr>\n      <th>58</th>\n      <td>IndyMedia\\n\\n\\n\\n\\n\\n\\n\\n\\n\\nSteun Indymedia N...</td>\n      <td>20-5-2023</td>\n      <td>https://www.indymedia.nl/node/53419</td>\n      <td>Indy media</td>\n    </tr>\n    <tr>\n      <th>59</th>\n      <td>IndyMedia\\n\\n\\n\\n\\n\\n\\n\\n\\n\\nSteun Indymedia N...</td>\n      <td>16-5-2023</td>\n      <td>https://www.indymedia.nl/node/add/comment/5339...</td>\n      <td>Indy media</td>\n    </tr>\n    <tr>\n      <th>60</th>\n      <td>IndyMedia\\n\\n\\n\\n\\n\\n\\n\\n\\n\\nSteun Indymedia N...</td>\n      <td>16-5-2023</td>\n      <td>https://www.indymedia.nl/node/53395</td>\n      <td>Indy media</td>\n    </tr>\n    <tr>\n      <th>61</th>\n      <td>IndyMedia\\n\\n\\n\\n\\n\\n\\n\\n\\n\\nSteun Indymedia N...</td>\n      <td>16-5-2023</td>\n      <td>https://www.indymedia.nl/node/53396</td>\n      <td>Indy media</td>\n    </tr>\n  </tbody>\n</table>\n<p>62 rows × 4 columns</p>\n</div>"
     },
     "execution_count": 5,
     "metadata": {},
     "output_type": "execute_result"
    }
   ],
   "source": [
    "df_indymedia= pd.read_csv('indymedia_clean.csv').drop(['Unnamed: 0', 'index'], axis=1).dropna()\n",
    "df_indymedia['source'] = 'Indy media'\n",
    "\n",
    "# Filter all non-article entries\n",
    "df_indymedia = df_indymedia[df_indymedia['url'].str.contains(\"node\")==True]\n",
    "df_indymedia"
   ],
   "metadata": {
    "collapsed": false
   }
  },
  {
   "cell_type": "code",
   "execution_count": 6,
   "outputs": [
    {
     "data": {
      "text/plain": "                                                  text       date   \n0    Toggle navigationInfo Nog steeds is het groots...  28-5-2023  \\\n1    Toggle navigationInfo Nog steeds is het groots...  28-5-2023   \n2    Toggle navigationInfo Je hebt in ons land twee...  28-5-2023   \n3    Toggle navigationInfo We vergeten snel en dat ...  28-5-2023   \n4    Toggle navigationInfoHet heeft er alle schijn ...  27-5-2023   \n..                                                 ...        ...   \n239  Toggle navigationInfo Op het moment dat kinder...   9-4-2023   \n240  Toggle navigationInfo In de alternatieve werel...   8-4-2023   \n241  Toggle navigationInfo Over het algemeen heeft ...   8-4-2023   \n242  Toggle navigationInfo Al jarenlang waarschuwen...   8-4-2023   \n243  Toggle navigationInfo De Amerikaanse en Europe...   7-4-2023   \n\n                                                   url  source  \n0                                   https://niburu.co/  Niburu  \n1    https://niburu.co/het-complot/18598-het-absurd...  Niburu  \n2    https://niburu.co/het-complot/18597-politie-bo...  Niburu  \n3    https://niburu.co/het-complot/18592-dit-is-hoe...  Niburu  \n4    https://niburu.co/binnenland/18595-er-lijkt-ie...  Niburu  \n..                                                 ...     ...  \n239  https://niburu.co/het-complot/18448-scholen-wo...  Niburu  \n240  https://niburu.co/buitenland/18444-wordt-rober...  Niburu  \n241  https://niburu.co/buitenland/18446-het-ziet-er...  Niburu  \n242  https://niburu.co/het-complot/18445-nog-veel-m...  Niburu  \n243  https://niburu.co/37-artikelen/wereld/18440-he...  Niburu  \n\n[233 rows x 4 columns]",
      "text/html": "<div>\n<style scoped>\n    .dataframe tbody tr th:only-of-type {\n        vertical-align: middle;\n    }\n\n    .dataframe tbody tr th {\n        vertical-align: top;\n    }\n\n    .dataframe thead th {\n        text-align: right;\n    }\n</style>\n<table border=\"1\" class=\"dataframe\">\n  <thead>\n    <tr style=\"text-align: right;\">\n      <th></th>\n      <th>text</th>\n      <th>date</th>\n      <th>url</th>\n      <th>source</th>\n    </tr>\n  </thead>\n  <tbody>\n    <tr>\n      <th>0</th>\n      <td>Toggle navigationInfo Nog steeds is het groots...</td>\n      <td>28-5-2023</td>\n      <td>https://niburu.co/</td>\n      <td>Niburu</td>\n    </tr>\n    <tr>\n      <th>1</th>\n      <td>Toggle navigationInfo Nog steeds is het groots...</td>\n      <td>28-5-2023</td>\n      <td>https://niburu.co/het-complot/18598-het-absurd...</td>\n      <td>Niburu</td>\n    </tr>\n    <tr>\n      <th>2</th>\n      <td>Toggle navigationInfo Je hebt in ons land twee...</td>\n      <td>28-5-2023</td>\n      <td>https://niburu.co/het-complot/18597-politie-bo...</td>\n      <td>Niburu</td>\n    </tr>\n    <tr>\n      <th>3</th>\n      <td>Toggle navigationInfo We vergeten snel en dat ...</td>\n      <td>28-5-2023</td>\n      <td>https://niburu.co/het-complot/18592-dit-is-hoe...</td>\n      <td>Niburu</td>\n    </tr>\n    <tr>\n      <th>4</th>\n      <td>Toggle navigationInfoHet heeft er alle schijn ...</td>\n      <td>27-5-2023</td>\n      <td>https://niburu.co/binnenland/18595-er-lijkt-ie...</td>\n      <td>Niburu</td>\n    </tr>\n    <tr>\n      <th>...</th>\n      <td>...</td>\n      <td>...</td>\n      <td>...</td>\n      <td>...</td>\n    </tr>\n    <tr>\n      <th>239</th>\n      <td>Toggle navigationInfo Op het moment dat kinder...</td>\n      <td>9-4-2023</td>\n      <td>https://niburu.co/het-complot/18448-scholen-wo...</td>\n      <td>Niburu</td>\n    </tr>\n    <tr>\n      <th>240</th>\n      <td>Toggle navigationInfo In de alternatieve werel...</td>\n      <td>8-4-2023</td>\n      <td>https://niburu.co/buitenland/18444-wordt-rober...</td>\n      <td>Niburu</td>\n    </tr>\n    <tr>\n      <th>241</th>\n      <td>Toggle navigationInfo Over het algemeen heeft ...</td>\n      <td>8-4-2023</td>\n      <td>https://niburu.co/buitenland/18446-het-ziet-er...</td>\n      <td>Niburu</td>\n    </tr>\n    <tr>\n      <th>242</th>\n      <td>Toggle navigationInfo Al jarenlang waarschuwen...</td>\n      <td>8-4-2023</td>\n      <td>https://niburu.co/het-complot/18445-nog-veel-m...</td>\n      <td>Niburu</td>\n    </tr>\n    <tr>\n      <th>243</th>\n      <td>Toggle navigationInfo De Amerikaanse en Europe...</td>\n      <td>7-4-2023</td>\n      <td>https://niburu.co/37-artikelen/wereld/18440-he...</td>\n      <td>Niburu</td>\n    </tr>\n  </tbody>\n</table>\n<p>233 rows × 4 columns</p>\n</div>"
     },
     "execution_count": 6,
     "metadata": {},
     "output_type": "execute_result"
    }
   ],
   "source": [
    "df_niburu = pd.read_csv('niburu_clean.csv').drop(['Unnamed: 0', 'index'], axis=1).dropna()\n",
    "df_niburu['source'] = 'Niburu'\n",
    "\n",
    "# Filter all non-article entries\n",
    "df_niburu = df_niburu[df_niburu['url'].str.contains(\"start\")==False]\n",
    "df_niburu"
   ],
   "metadata": {
    "collapsed": false
   }
  },
  {
   "cell_type": "markdown",
   "source": [
    "### Privacynews doesn't really have any extreme content as it is only concerned with news about privacy"
   ],
   "metadata": {
    "collapsed": false
   }
  },
  {
   "cell_type": "code",
   "execution_count": 7,
   "outputs": [],
   "source": [
    "# df_privacynieuws = pd.read_csv('privacynieuws_clean.csv').drop(['Unnamed: 0', 'index'], axis=1).dropna()\n",
    "# df_privacynieuws['source'] = 'Privacy nieuws'\n",
    "# find_max_len(df_privacynieuws)"
   ],
   "metadata": {
    "collapsed": false
   }
  },
  {
   "cell_type": "code",
   "execution_count": 8,
   "outputs": [
    {
     "data": {
      "text/plain": "                                                  text       date   \n1    \\n\\n\\n\\nWelcome!ZoekFrontnieuws\\n\\n\\n\\nCOVID-1...  28-5-2023  \\\n7    \\n\\n\\n\\nWelcome!ZoekFrontnieuws\\n\\n\\n\\n -  - A...  28-5-2023   \n8    \\n\\n\\n\\nWelcome!ZoekFrontnieuws\\n\\n\\n\\n529KMaa...  28-5-2023   \n9    \\n\\n\\n\\nWelcome!ZoekFrontnieuws\\n\\n\\n\\nFrontni...  28-5-2023   \n10   \\n\\n\\n\\nWelcome!ZoekFrontnieuws\\n\\n\\n\\n768WAls...  28-5-2023   \n..                                                 ...        ...   \n628  \\n\\n\\n\\nWelcome!ZoekFrontnieuws\\n\\n\\n\\n1745Jam...  5-11-2020   \n630  \\n\\n\\n\\nWelcome!ZoekFrontnieuws\\n\\n\\n\\n1847()H...  26-1-2021   \n632  \\n\\n\\n\\nWelcome!ZoekFrontnieuws\\n\\n\\n\\n938CC B...  13-7-2020   \n634  \\n\\n\\n\\nWelcome!ZoekFrontnieuws\\n\\n\\n\\nDe beëd...  7-10-2021   \n636  \\n\\n\\n\\nWelcome!ZoekFrontnieuws\\n\\n\\n\\n18555HO...  28-2-2022   \n\n                                                   url       source  \n1       https://www.frontnieuws.com/covid-19-cartoons/  Frontnieuws  \n7                         https://www.frontnieuws.com/  Frontnieuws  \n8    https://www.frontnieuws.com/de-anti-antisemiti...  Frontnieuws  \n9    https://www.frontnieuws.com/author/frontnieuws...  Frontnieuws  \n10   https://www.frontnieuws.com/is-oekraine-babe-r...  Frontnieuws  \n..                                                 ...          ...  \n628  https://www.frontnieuws.com/verkiezingsfraude-...  Frontnieuws  \n630  https://www.frontnieuws.com/pfizer-covid-19-va...  Frontnieuws  \n632  https://www.frontnieuws.com/servische-soldaten...  Frontnieuws  \n634  https://www.frontnieuws.com/luchtmacht-arts-vs...  Frontnieuws  \n636  https://www.frontnieuws.com/er-is-een-grote-oo...  Frontnieuws  \n\n[310 rows x 4 columns]",
      "text/html": "<div>\n<style scoped>\n    .dataframe tbody tr th:only-of-type {\n        vertical-align: middle;\n    }\n\n    .dataframe tbody tr th {\n        vertical-align: top;\n    }\n\n    .dataframe thead th {\n        text-align: right;\n    }\n</style>\n<table border=\"1\" class=\"dataframe\">\n  <thead>\n    <tr style=\"text-align: right;\">\n      <th></th>\n      <th>text</th>\n      <th>date</th>\n      <th>url</th>\n      <th>source</th>\n    </tr>\n  </thead>\n  <tbody>\n    <tr>\n      <th>1</th>\n      <td>\\n\\n\\n\\nWelcome!ZoekFrontnieuws\\n\\n\\n\\nCOVID-1...</td>\n      <td>28-5-2023</td>\n      <td>https://www.frontnieuws.com/covid-19-cartoons/</td>\n      <td>Frontnieuws</td>\n    </tr>\n    <tr>\n      <th>7</th>\n      <td>\\n\\n\\n\\nWelcome!ZoekFrontnieuws\\n\\n\\n\\n -  - A...</td>\n      <td>28-5-2023</td>\n      <td>https://www.frontnieuws.com/</td>\n      <td>Frontnieuws</td>\n    </tr>\n    <tr>\n      <th>8</th>\n      <td>\\n\\n\\n\\nWelcome!ZoekFrontnieuws\\n\\n\\n\\n529KMaa...</td>\n      <td>28-5-2023</td>\n      <td>https://www.frontnieuws.com/de-anti-antisemiti...</td>\n      <td>Frontnieuws</td>\n    </tr>\n    <tr>\n      <th>9</th>\n      <td>\\n\\n\\n\\nWelcome!ZoekFrontnieuws\\n\\n\\n\\nFrontni...</td>\n      <td>28-5-2023</td>\n      <td>https://www.frontnieuws.com/author/frontnieuws...</td>\n      <td>Frontnieuws</td>\n    </tr>\n    <tr>\n      <th>10</th>\n      <td>\\n\\n\\n\\nWelcome!ZoekFrontnieuws\\n\\n\\n\\n768WAls...</td>\n      <td>28-5-2023</td>\n      <td>https://www.frontnieuws.com/is-oekraine-babe-r...</td>\n      <td>Frontnieuws</td>\n    </tr>\n    <tr>\n      <th>...</th>\n      <td>...</td>\n      <td>...</td>\n      <td>...</td>\n      <td>...</td>\n    </tr>\n    <tr>\n      <th>628</th>\n      <td>\\n\\n\\n\\nWelcome!ZoekFrontnieuws\\n\\n\\n\\n1745Jam...</td>\n      <td>5-11-2020</td>\n      <td>https://www.frontnieuws.com/verkiezingsfraude-...</td>\n      <td>Frontnieuws</td>\n    </tr>\n    <tr>\n      <th>630</th>\n      <td>\\n\\n\\n\\nWelcome!ZoekFrontnieuws\\n\\n\\n\\n1847()H...</td>\n      <td>26-1-2021</td>\n      <td>https://www.frontnieuws.com/pfizer-covid-19-va...</td>\n      <td>Frontnieuws</td>\n    </tr>\n    <tr>\n      <th>632</th>\n      <td>\\n\\n\\n\\nWelcome!ZoekFrontnieuws\\n\\n\\n\\n938CC B...</td>\n      <td>13-7-2020</td>\n      <td>https://www.frontnieuws.com/servische-soldaten...</td>\n      <td>Frontnieuws</td>\n    </tr>\n    <tr>\n      <th>634</th>\n      <td>\\n\\n\\n\\nWelcome!ZoekFrontnieuws\\n\\n\\n\\nDe beëd...</td>\n      <td>7-10-2021</td>\n      <td>https://www.frontnieuws.com/luchtmacht-arts-vs...</td>\n      <td>Frontnieuws</td>\n    </tr>\n    <tr>\n      <th>636</th>\n      <td>\\n\\n\\n\\nWelcome!ZoekFrontnieuws\\n\\n\\n\\n18555HO...</td>\n      <td>28-2-2022</td>\n      <td>https://www.frontnieuws.com/er-is-een-grote-oo...</td>\n      <td>Frontnieuws</td>\n    </tr>\n  </tbody>\n</table>\n<p>310 rows × 4 columns</p>\n</div>"
     },
     "execution_count": 8,
     "metadata": {},
     "output_type": "execute_result"
    }
   ],
   "source": [
    "df_frontnieuws = pd.read_csv('frontnieuws_clean.csv').drop(['Unnamed: 0', 'index'], axis=1).dropna()\n",
    "df_frontnieuws['source'] = 'Frontnieuws'\n",
    "\n",
    "# Filter all non-article entries\n",
    "df_frontnieuws= df_frontnieuws[df_frontnieuws['url'].str.contains(\"category|#comments|#respond|email-protection\")==False]\n",
    "df_frontnieuws"
   ],
   "metadata": {
    "collapsed": false
   }
  },
  {
   "cell_type": "markdown",
   "source": [
    "# Skipping these for now as there is no date info available\n",
    "The dataset is also quite large already. We don't want the GPT costs to be too high."
   ],
   "metadata": {
    "collapsed": false
   }
  },
  {
   "cell_type": "code",
   "execution_count": 9,
   "outputs": [],
   "source": [
    "# df_de_andere_krant = pd.read_csv('results_de_andere_krant.csv').dropna()\n",
    "# df_de_andere_krant\n",
    "# find_max_len(df_de_andere_krant)"
   ],
   "metadata": {
    "collapsed": false
   }
  },
  {
   "cell_type": "code",
   "execution_count": 10,
   "outputs": [],
   "source": [
    "# df_transitieweb = pd.read_csv('results_transitieweb.csv').dropna()\n",
    "# df_transitieweb\n",
    "# find_max_len(df_transitieweb)"
   ],
   "metadata": {
    "collapsed": false
   }
  },
  {
   "cell_type": "markdown",
   "source": [
    "# Full dataset"
   ],
   "metadata": {
    "collapsed": false
   }
  },
  {
   "cell_type": "code",
   "execution_count": 11,
   "outputs": [
    {
     "data": {
      "text/plain": "                                                   text        date   \n0     \\n\\nNet Binnen\\nSwitch skinSidebarWillekeurig ...  28-05-2023  \\\n1     \\n\\nNet Binnen\\nSwitch skinSidebarWillekeurig ...  28-05-2023   \n2     \\n\\nNet Binnen\\nSwitch skinSidebarWillekeurig ...  28-05-2023   \n3     \\n\\nNet Binnen\\nSwitch skinSidebarWillekeurig ...  28-05-2023   \n4     \\n\\nNet Binnen\\nSwitch skinSidebarWillekeurig ...  27-05-2023   \n...                                                 ...         ...   \n1532  \\n\\n\\n\\nWelcome!ZoekFrontnieuws\\n\\n\\n\\n1745Jam...   5-11-2020   \n1533  \\n\\n\\n\\nWelcome!ZoekFrontnieuws\\n\\n\\n\\n1847()H...   26-1-2021   \n1534  \\n\\n\\n\\nWelcome!ZoekFrontnieuws\\n\\n\\n\\n938CC B...   13-7-2020   \n1535  \\n\\n\\n\\nWelcome!ZoekFrontnieuws\\n\\n\\n\\nDe beëd...   7-10-2021   \n1536  \\n\\n\\n\\nWelcome!ZoekFrontnieuws\\n\\n\\n\\n18555HO...   28-2-2022   \n\n                                                    url         source  \n0     https://www.ninefornews.nl/felle-kritiek-op-fe...  Nine for News  \n1     https://www.ninefornews.nl/bijwerkingencentrum...  Nine for News  \n2     https://www.ninefornews.nl/internet-ontploft-n...  Nine for News  \n3     https://www.ninefornews.nl/ggd-baas-heeft-spij...  Nine for News  \n4     https://www.ninefornews.nl/kijk-europarlementa...  Nine for News  \n...                                                 ...            ...  \n1532  https://www.frontnieuws.com/verkiezingsfraude-...    Frontnieuws  \n1533  https://www.frontnieuws.com/pfizer-covid-19-va...    Frontnieuws  \n1534  https://www.frontnieuws.com/servische-soldaten...    Frontnieuws  \n1535  https://www.frontnieuws.com/luchtmacht-arts-vs...    Frontnieuws  \n1536  https://www.frontnieuws.com/er-is-een-grote-oo...    Frontnieuws  \n\n[1537 rows x 4 columns]",
      "text/html": "<div>\n<style scoped>\n    .dataframe tbody tr th:only-of-type {\n        vertical-align: middle;\n    }\n\n    .dataframe tbody tr th {\n        vertical-align: top;\n    }\n\n    .dataframe thead th {\n        text-align: right;\n    }\n</style>\n<table border=\"1\" class=\"dataframe\">\n  <thead>\n    <tr style=\"text-align: right;\">\n      <th></th>\n      <th>text</th>\n      <th>date</th>\n      <th>url</th>\n      <th>source</th>\n    </tr>\n  </thead>\n  <tbody>\n    <tr>\n      <th>0</th>\n      <td>\\n\\nNet Binnen\\nSwitch skinSidebarWillekeurig ...</td>\n      <td>28-05-2023</td>\n      <td>https://www.ninefornews.nl/felle-kritiek-op-fe...</td>\n      <td>Nine for News</td>\n    </tr>\n    <tr>\n      <th>1</th>\n      <td>\\n\\nNet Binnen\\nSwitch skinSidebarWillekeurig ...</td>\n      <td>28-05-2023</td>\n      <td>https://www.ninefornews.nl/bijwerkingencentrum...</td>\n      <td>Nine for News</td>\n    </tr>\n    <tr>\n      <th>2</th>\n      <td>\\n\\nNet Binnen\\nSwitch skinSidebarWillekeurig ...</td>\n      <td>28-05-2023</td>\n      <td>https://www.ninefornews.nl/internet-ontploft-n...</td>\n      <td>Nine for News</td>\n    </tr>\n    <tr>\n      <th>3</th>\n      <td>\\n\\nNet Binnen\\nSwitch skinSidebarWillekeurig ...</td>\n      <td>28-05-2023</td>\n      <td>https://www.ninefornews.nl/ggd-baas-heeft-spij...</td>\n      <td>Nine for News</td>\n    </tr>\n    <tr>\n      <th>4</th>\n      <td>\\n\\nNet Binnen\\nSwitch skinSidebarWillekeurig ...</td>\n      <td>27-05-2023</td>\n      <td>https://www.ninefornews.nl/kijk-europarlementa...</td>\n      <td>Nine for News</td>\n    </tr>\n    <tr>\n      <th>...</th>\n      <td>...</td>\n      <td>...</td>\n      <td>...</td>\n      <td>...</td>\n    </tr>\n    <tr>\n      <th>1532</th>\n      <td>\\n\\n\\n\\nWelcome!ZoekFrontnieuws\\n\\n\\n\\n1745Jam...</td>\n      <td>5-11-2020</td>\n      <td>https://www.frontnieuws.com/verkiezingsfraude-...</td>\n      <td>Frontnieuws</td>\n    </tr>\n    <tr>\n      <th>1533</th>\n      <td>\\n\\n\\n\\nWelcome!ZoekFrontnieuws\\n\\n\\n\\n1847()H...</td>\n      <td>26-1-2021</td>\n      <td>https://www.frontnieuws.com/pfizer-covid-19-va...</td>\n      <td>Frontnieuws</td>\n    </tr>\n    <tr>\n      <th>1534</th>\n      <td>\\n\\n\\n\\nWelcome!ZoekFrontnieuws\\n\\n\\n\\n938CC B...</td>\n      <td>13-7-2020</td>\n      <td>https://www.frontnieuws.com/servische-soldaten...</td>\n      <td>Frontnieuws</td>\n    </tr>\n    <tr>\n      <th>1535</th>\n      <td>\\n\\n\\n\\nWelcome!ZoekFrontnieuws\\n\\n\\n\\nDe beëd...</td>\n      <td>7-10-2021</td>\n      <td>https://www.frontnieuws.com/luchtmacht-arts-vs...</td>\n      <td>Frontnieuws</td>\n    </tr>\n    <tr>\n      <th>1536</th>\n      <td>\\n\\n\\n\\nWelcome!ZoekFrontnieuws\\n\\n\\n\\n18555HO...</td>\n      <td>28-2-2022</td>\n      <td>https://www.frontnieuws.com/er-is-een-grote-oo...</td>\n      <td>Frontnieuws</td>\n    </tr>\n  </tbody>\n</table>\n<p>1537 rows × 4 columns</p>\n</div>"
     },
     "execution_count": 11,
     "metadata": {},
     "output_type": "execute_result"
    }
   ],
   "source": [
    "frames = [df_nine_for_news, df_indymedia, df_niburu, df_frontnieuws]\n",
    "final_df = pd.concat(frames, ignore_index=True)\n",
    "final_df"
   ],
   "metadata": {
    "collapsed": false
   }
  },
  {
   "cell_type": "markdown",
   "source": [
    "# GPT\n",
    "## Tokenizing"
   ],
   "metadata": {
    "collapsed": false
   }
  },
  {
   "cell_type": "code",
   "execution_count": 12,
   "outputs": [],
   "source": [
    "def tokenize_text(df):\n",
    "    for i, row in enumerate(df['text']):\n",
    "        text = str(row)\n",
    "        tokenizer = tiktoken.encoding_for_model('gpt-3.5-turbo')\n",
    "        encoded_text = tokenizer.encode(text)\n",
    "\n",
    "        # Max amount of tokens for a request is a little more than 4000\n",
    "        # this includes both the text and the instructions given to GPT\n",
    "        # Lets remove the texts > 3000 tokens\n",
    "        if len(encoded_text) > 3000:\n",
    "            encoded_text = pd.NA\n",
    "\n",
    "        df['encoded text'][i] = encoded_text\n",
    "\n",
    "    return df"
   ],
   "metadata": {
    "collapsed": false
   }
  },
  {
   "cell_type": "code",
   "execution_count": 13,
   "outputs": [
    {
     "name": "stdout",
     "output_type": "stream",
     "text": [
      "Number of row > 3000 tokens: 163\n"
     ]
    },
    {
     "data": {
      "text/plain": "                                                   text        date   \n0     \\n\\nNet Binnen\\nSwitch skinSidebarWillekeurig ...  28-05-2023  \\\n1     \\n\\nNet Binnen\\nSwitch skinSidebarWillekeurig ...  28-05-2023   \n2     \\n\\nNet Binnen\\nSwitch skinSidebarWillekeurig ...  28-05-2023   \n3     \\n\\nNet Binnen\\nSwitch skinSidebarWillekeurig ...  28-05-2023   \n4     \\n\\nNet Binnen\\nSwitch skinSidebarWillekeurig ...  27-05-2023   \n...                                                 ...         ...   \n1528  \\n\\n\\n\\nWelcome!ZoekFrontnieuws\\n\\n\\n\\n2036HHe...    5-2-2023   \n1531  \\n\\n\\n\\nWelcome!ZoekFrontnieuws\\n\\n\\n\\n2562LVa...   27-5-2023   \n1532  \\n\\n\\n\\nWelcome!ZoekFrontnieuws\\n\\n\\n\\n1745Jam...   5-11-2020   \n1533  \\n\\n\\n\\nWelcome!ZoekFrontnieuws\\n\\n\\n\\n1847()H...   26-1-2021   \n1534  \\n\\n\\n\\nWelcome!ZoekFrontnieuws\\n\\n\\n\\n938CC B...   13-7-2020   \n\n                                                    url         source   \n0     https://www.ninefornews.nl/felle-kritiek-op-fe...  Nine for News  \\\n1     https://www.ninefornews.nl/bijwerkingencentrum...  Nine for News   \n2     https://www.ninefornews.nl/internet-ontploft-n...  Nine for News   \n3     https://www.ninefornews.nl/ggd-baas-heeft-spij...  Nine for News   \n4     https://www.ninefornews.nl/kijk-europarlementa...  Nine for News   \n...                                                 ...            ...   \n1528  https://www.frontnieuws.com/brits-leger-zou-in...    Frontnieuws   \n1531  https://www.frontnieuws.com/oekrainse-claim-ov...    Frontnieuws   \n1532  https://www.frontnieuws.com/verkiezingsfraude-...    Frontnieuws   \n1533  https://www.frontnieuws.com/pfizer-covid-19-va...    Frontnieuws   \n1534  https://www.frontnieuws.com/servische-soldaten...    Frontnieuws   \n\n                                           encoded text  \n0     [271, 7099, 426, 35811, 198, 17259, 6930, 4817...  \n1     [271, 7099, 426, 35811, 198, 17259, 6930, 4817...  \n2     [271, 7099, 426, 35811, 198, 17259, 6930, 4817...  \n3     [271, 7099, 426, 35811, 198, 17259, 6930, 4817...  \n4     [271, 7099, 426, 35811, 198, 17259, 6930, 4817...  \n...                                                 ...  \n1528  [1038, 14262, 0, 57, 78, 1247, 24284, 11044, 8...  \n1531  [1038, 14262, 0, 57, 78, 1247, 24284, 11044, 8...  \n1532  [1038, 14262, 0, 57, 78, 1247, 24284, 11044, 8...  \n1533  [1038, 14262, 0, 57, 78, 1247, 24284, 11044, 8...  \n1534  [1038, 14262, 0, 57, 78, 1247, 24284, 11044, 8...  \n\n[1374 rows x 5 columns]",
      "text/html": "<div>\n<style scoped>\n    .dataframe tbody tr th:only-of-type {\n        vertical-align: middle;\n    }\n\n    .dataframe tbody tr th {\n        vertical-align: top;\n    }\n\n    .dataframe thead th {\n        text-align: right;\n    }\n</style>\n<table border=\"1\" class=\"dataframe\">\n  <thead>\n    <tr style=\"text-align: right;\">\n      <th></th>\n      <th>text</th>\n      <th>date</th>\n      <th>url</th>\n      <th>source</th>\n      <th>encoded text</th>\n    </tr>\n  </thead>\n  <tbody>\n    <tr>\n      <th>0</th>\n      <td>\\n\\nNet Binnen\\nSwitch skinSidebarWillekeurig ...</td>\n      <td>28-05-2023</td>\n      <td>https://www.ninefornews.nl/felle-kritiek-op-fe...</td>\n      <td>Nine for News</td>\n      <td>[271, 7099, 426, 35811, 198, 17259, 6930, 4817...</td>\n    </tr>\n    <tr>\n      <th>1</th>\n      <td>\\n\\nNet Binnen\\nSwitch skinSidebarWillekeurig ...</td>\n      <td>28-05-2023</td>\n      <td>https://www.ninefornews.nl/bijwerkingencentrum...</td>\n      <td>Nine for News</td>\n      <td>[271, 7099, 426, 35811, 198, 17259, 6930, 4817...</td>\n    </tr>\n    <tr>\n      <th>2</th>\n      <td>\\n\\nNet Binnen\\nSwitch skinSidebarWillekeurig ...</td>\n      <td>28-05-2023</td>\n      <td>https://www.ninefornews.nl/internet-ontploft-n...</td>\n      <td>Nine for News</td>\n      <td>[271, 7099, 426, 35811, 198, 17259, 6930, 4817...</td>\n    </tr>\n    <tr>\n      <th>3</th>\n      <td>\\n\\nNet Binnen\\nSwitch skinSidebarWillekeurig ...</td>\n      <td>28-05-2023</td>\n      <td>https://www.ninefornews.nl/ggd-baas-heeft-spij...</td>\n      <td>Nine for News</td>\n      <td>[271, 7099, 426, 35811, 198, 17259, 6930, 4817...</td>\n    </tr>\n    <tr>\n      <th>4</th>\n      <td>\\n\\nNet Binnen\\nSwitch skinSidebarWillekeurig ...</td>\n      <td>27-05-2023</td>\n      <td>https://www.ninefornews.nl/kijk-europarlementa...</td>\n      <td>Nine for News</td>\n      <td>[271, 7099, 426, 35811, 198, 17259, 6930, 4817...</td>\n    </tr>\n    <tr>\n      <th>...</th>\n      <td>...</td>\n      <td>...</td>\n      <td>...</td>\n      <td>...</td>\n      <td>...</td>\n    </tr>\n    <tr>\n      <th>1528</th>\n      <td>\\n\\n\\n\\nWelcome!ZoekFrontnieuws\\n\\n\\n\\n2036HHe...</td>\n      <td>5-2-2023</td>\n      <td>https://www.frontnieuws.com/brits-leger-zou-in...</td>\n      <td>Frontnieuws</td>\n      <td>[1038, 14262, 0, 57, 78, 1247, 24284, 11044, 8...</td>\n    </tr>\n    <tr>\n      <th>1531</th>\n      <td>\\n\\n\\n\\nWelcome!ZoekFrontnieuws\\n\\n\\n\\n2562LVa...</td>\n      <td>27-5-2023</td>\n      <td>https://www.frontnieuws.com/oekrainse-claim-ov...</td>\n      <td>Frontnieuws</td>\n      <td>[1038, 14262, 0, 57, 78, 1247, 24284, 11044, 8...</td>\n    </tr>\n    <tr>\n      <th>1532</th>\n      <td>\\n\\n\\n\\nWelcome!ZoekFrontnieuws\\n\\n\\n\\n1745Jam...</td>\n      <td>5-11-2020</td>\n      <td>https://www.frontnieuws.com/verkiezingsfraude-...</td>\n      <td>Frontnieuws</td>\n      <td>[1038, 14262, 0, 57, 78, 1247, 24284, 11044, 8...</td>\n    </tr>\n    <tr>\n      <th>1533</th>\n      <td>\\n\\n\\n\\nWelcome!ZoekFrontnieuws\\n\\n\\n\\n1847()H...</td>\n      <td>26-1-2021</td>\n      <td>https://www.frontnieuws.com/pfizer-covid-19-va...</td>\n      <td>Frontnieuws</td>\n      <td>[1038, 14262, 0, 57, 78, 1247, 24284, 11044, 8...</td>\n    </tr>\n    <tr>\n      <th>1534</th>\n      <td>\\n\\n\\n\\nWelcome!ZoekFrontnieuws\\n\\n\\n\\n938CC B...</td>\n      <td>13-7-2020</td>\n      <td>https://www.frontnieuws.com/servische-soldaten...</td>\n      <td>Frontnieuws</td>\n      <td>[1038, 14262, 0, 57, 78, 1247, 24284, 11044, 8...</td>\n    </tr>\n  </tbody>\n</table>\n<p>1374 rows × 5 columns</p>\n</div>"
     },
     "execution_count": 13,
     "metadata": {},
     "output_type": "execute_result"
    }
   ],
   "source": [
    "final_df['encoded text'] = ''\n",
    "final_df = tokenize_text(final_df)\n",
    "\n",
    "# Checking how many rows have a token count>3000\n",
    "too_much_tokens = final_df['encoded text'].isna().sum()\n",
    "print(f'Number of row > 3000 tokens: {too_much_tokens}')\n",
    "\n",
    "# Dropping them\n",
    "final_df = final_df.dropna()\n",
    "final_df"
   ],
   "metadata": {
    "collapsed": false
   }
  },
  {
   "cell_type": "code",
   "execution_count": 14,
   "outputs": [],
   "source": [
    "def count_tokens_and_cost(df, role_prompt):\n",
    "    # Counting the amount of tokens for the role prompt\n",
    "    tokenizer = tiktoken.encoding_for_model('gpt-3.5-turbo')\n",
    "    encoded_text = tokenizer.encode(role_prompt)\n",
    "\n",
    "    count = 0\n",
    "    for i in df['encoded text']:\n",
    "        # Adding the role prompt as well since it is given with each row in the dataset\n",
    "        count += len(i) + len(encoded_text)\n",
    "    cost = (count/1000)*0.002\n",
    "    return print(f'Amount of tokens = {count}, Price = {cost}$')"
   ],
   "metadata": {
    "collapsed": false
   }
  },
  {
   "cell_type": "code",
   "execution_count": 15,
   "outputs": [
    {
     "name": "stdout",
     "output_type": "stream",
     "text": [
      "Amount of tokens = 2240027, Price = 4.480054$\n"
     ]
    }
   ],
   "source": [
    "role_prompt = 'Je bent een robot die teksten analyseerd. Je antwoorden moeten in het Nederlands zijn. Haal de belangrijkste genoemde entiteiten en besproken onderwerpen uit de tekst. Kies maximaal 10 entiteiten en onderwerpen. Zet bij elk onderwerp en elke entiteit erbij of er positief of negatief over gepraat wordt in de tekst. Het is belangrijk dat je het sentiment van de auteur correct weergeeft. Geef antwoord als in het voorbeeld, dit is een Python dictionary: \\n {entiteiten:{entiteit:sentiment}, onderwerpen:{onderwerp:sentiment}} De tekst: '\n",
    "\n",
    "count_tokens_and_cost(final_df, role_prompt)"
   ],
   "metadata": {
    "collapsed": false
   }
  },
  {
   "cell_type": "code",
   "execution_count": 16,
   "outputs": [],
   "source": [
    "def get_entities_and_subjects_gpt(text):\n",
    "    messages = []\n",
    "    messages.append({\"role\":\"system\", \"content\":'Je bent een robot die teksten analyseerd. Je antwoorden moeten in het Nederlands zijn.' })\n",
    "    messages.append({\"role\": \"user\", \"content\": 'Haal de belangrijkste genoemde entiteiten en besproken onderwerpen uit de tekst. Kies maximaal 10 entiteiten en onderwerpen. Zet bij elk onderwerp en elke entiteit erbij of er positief of negatief over gepraat wordt in de tekst. Het is belangrijk dat je het sentiment van de auteur correct weergeeft. Geef antwoord als in het voorbeeld, dit is een Python dictionary: {entiteiten:{entiteit:sentiment}, onderwerpen:{onderwerp:sentiment}}'})\n",
    "    messages.append({\"role\":\"user\", \"content\":f'De tekst: {text}'})\n",
    "    response = openai.ChatCompletion.create(\n",
    "        model='gpt-3.5-turbo',\n",
    "        messages=messages\n",
    "    )\n",
    "    messages = []\n",
    "    gpt_result = response.choices[0].message['content']\n",
    "\n",
    "    return gpt_result"
   ],
   "metadata": {
    "collapsed": false
   }
  },
  {
   "cell_type": "code",
   "execution_count": 17,
   "outputs": [],
   "source": [
    "final_df['GPT output'] = ''"
   ],
   "metadata": {
    "collapsed": false
   }
  },
  {
   "cell_type": "code",
   "execution_count": 18,
   "outputs": [
    {
     "data": {
      "text/plain": "                                                   text        date   \n0     \\n\\nNet Binnen\\nSwitch skinSidebarWillekeurig ...  28-05-2023  \\\n1     \\n\\nNet Binnen\\nSwitch skinSidebarWillekeurig ...  28-05-2023   \n2     \\n\\nNet Binnen\\nSwitch skinSidebarWillekeurig ...  28-05-2023   \n3     \\n\\nNet Binnen\\nSwitch skinSidebarWillekeurig ...  28-05-2023   \n4     \\n\\nNet Binnen\\nSwitch skinSidebarWillekeurig ...  27-05-2023   \n...                                                 ...         ...   \n1528  \\n\\n\\n\\nWelcome!ZoekFrontnieuws\\n\\n\\n\\n2036HHe...    5-2-2023   \n1531  \\n\\n\\n\\nWelcome!ZoekFrontnieuws\\n\\n\\n\\n2562LVa...   27-5-2023   \n1532  \\n\\n\\n\\nWelcome!ZoekFrontnieuws\\n\\n\\n\\n1745Jam...   5-11-2020   \n1533  \\n\\n\\n\\nWelcome!ZoekFrontnieuws\\n\\n\\n\\n1847()H...   26-1-2021   \n1534  \\n\\n\\n\\nWelcome!ZoekFrontnieuws\\n\\n\\n\\n938CC B...   13-7-2020   \n\n                                                    url         source   \n0     https://www.ninefornews.nl/felle-kritiek-op-fe...  Nine for News  \\\n1     https://www.ninefornews.nl/bijwerkingencentrum...  Nine for News   \n2     https://www.ninefornews.nl/internet-ontploft-n...  Nine for News   \n3     https://www.ninefornews.nl/ggd-baas-heeft-spij...  Nine for News   \n4     https://www.ninefornews.nl/kijk-europarlementa...  Nine for News   \n...                                                 ...            ...   \n1528  https://www.frontnieuws.com/brits-leger-zou-in...    Frontnieuws   \n1531  https://www.frontnieuws.com/oekrainse-claim-ov...    Frontnieuws   \n1532  https://www.frontnieuws.com/verkiezingsfraude-...    Frontnieuws   \n1533  https://www.frontnieuws.com/pfizer-covid-19-va...    Frontnieuws   \n1534  https://www.frontnieuws.com/servische-soldaten...    Frontnieuws   \n\n                                           encoded text GPT output  \n0     [271, 7099, 426, 35811, 198, 17259, 6930, 4817...             \n1     [271, 7099, 426, 35811, 198, 17259, 6930, 4817...             \n2     [271, 7099, 426, 35811, 198, 17259, 6930, 4817...             \n3     [271, 7099, 426, 35811, 198, 17259, 6930, 4817...             \n4     [271, 7099, 426, 35811, 198, 17259, 6930, 4817...             \n...                                                 ...        ...  \n1528  [1038, 14262, 0, 57, 78, 1247, 24284, 11044, 8...             \n1531  [1038, 14262, 0, 57, 78, 1247, 24284, 11044, 8...             \n1532  [1038, 14262, 0, 57, 78, 1247, 24284, 11044, 8...             \n1533  [1038, 14262, 0, 57, 78, 1247, 24284, 11044, 8...             \n1534  [1038, 14262, 0, 57, 78, 1247, 24284, 11044, 8...             \n\n[1374 rows x 6 columns]",
      "text/html": "<div>\n<style scoped>\n    .dataframe tbody tr th:only-of-type {\n        vertical-align: middle;\n    }\n\n    .dataframe tbody tr th {\n        vertical-align: top;\n    }\n\n    .dataframe thead th {\n        text-align: right;\n    }\n</style>\n<table border=\"1\" class=\"dataframe\">\n  <thead>\n    <tr style=\"text-align: right;\">\n      <th></th>\n      <th>text</th>\n      <th>date</th>\n      <th>url</th>\n      <th>source</th>\n      <th>encoded text</th>\n      <th>GPT output</th>\n    </tr>\n  </thead>\n  <tbody>\n    <tr>\n      <th>0</th>\n      <td>\\n\\nNet Binnen\\nSwitch skinSidebarWillekeurig ...</td>\n      <td>28-05-2023</td>\n      <td>https://www.ninefornews.nl/felle-kritiek-op-fe...</td>\n      <td>Nine for News</td>\n      <td>[271, 7099, 426, 35811, 198, 17259, 6930, 4817...</td>\n      <td></td>\n    </tr>\n    <tr>\n      <th>1</th>\n      <td>\\n\\nNet Binnen\\nSwitch skinSidebarWillekeurig ...</td>\n      <td>28-05-2023</td>\n      <td>https://www.ninefornews.nl/bijwerkingencentrum...</td>\n      <td>Nine for News</td>\n      <td>[271, 7099, 426, 35811, 198, 17259, 6930, 4817...</td>\n      <td></td>\n    </tr>\n    <tr>\n      <th>2</th>\n      <td>\\n\\nNet Binnen\\nSwitch skinSidebarWillekeurig ...</td>\n      <td>28-05-2023</td>\n      <td>https://www.ninefornews.nl/internet-ontploft-n...</td>\n      <td>Nine for News</td>\n      <td>[271, 7099, 426, 35811, 198, 17259, 6930, 4817...</td>\n      <td></td>\n    </tr>\n    <tr>\n      <th>3</th>\n      <td>\\n\\nNet Binnen\\nSwitch skinSidebarWillekeurig ...</td>\n      <td>28-05-2023</td>\n      <td>https://www.ninefornews.nl/ggd-baas-heeft-spij...</td>\n      <td>Nine for News</td>\n      <td>[271, 7099, 426, 35811, 198, 17259, 6930, 4817...</td>\n      <td></td>\n    </tr>\n    <tr>\n      <th>4</th>\n      <td>\\n\\nNet Binnen\\nSwitch skinSidebarWillekeurig ...</td>\n      <td>27-05-2023</td>\n      <td>https://www.ninefornews.nl/kijk-europarlementa...</td>\n      <td>Nine for News</td>\n      <td>[271, 7099, 426, 35811, 198, 17259, 6930, 4817...</td>\n      <td></td>\n    </tr>\n    <tr>\n      <th>...</th>\n      <td>...</td>\n      <td>...</td>\n      <td>...</td>\n      <td>...</td>\n      <td>...</td>\n      <td>...</td>\n    </tr>\n    <tr>\n      <th>1528</th>\n      <td>\\n\\n\\n\\nWelcome!ZoekFrontnieuws\\n\\n\\n\\n2036HHe...</td>\n      <td>5-2-2023</td>\n      <td>https://www.frontnieuws.com/brits-leger-zou-in...</td>\n      <td>Frontnieuws</td>\n      <td>[1038, 14262, 0, 57, 78, 1247, 24284, 11044, 8...</td>\n      <td></td>\n    </tr>\n    <tr>\n      <th>1531</th>\n      <td>\\n\\n\\n\\nWelcome!ZoekFrontnieuws\\n\\n\\n\\n2562LVa...</td>\n      <td>27-5-2023</td>\n      <td>https://www.frontnieuws.com/oekrainse-claim-ov...</td>\n      <td>Frontnieuws</td>\n      <td>[1038, 14262, 0, 57, 78, 1247, 24284, 11044, 8...</td>\n      <td></td>\n    </tr>\n    <tr>\n      <th>1532</th>\n      <td>\\n\\n\\n\\nWelcome!ZoekFrontnieuws\\n\\n\\n\\n1745Jam...</td>\n      <td>5-11-2020</td>\n      <td>https://www.frontnieuws.com/verkiezingsfraude-...</td>\n      <td>Frontnieuws</td>\n      <td>[1038, 14262, 0, 57, 78, 1247, 24284, 11044, 8...</td>\n      <td></td>\n    </tr>\n    <tr>\n      <th>1533</th>\n      <td>\\n\\n\\n\\nWelcome!ZoekFrontnieuws\\n\\n\\n\\n1847()H...</td>\n      <td>26-1-2021</td>\n      <td>https://www.frontnieuws.com/pfizer-covid-19-va...</td>\n      <td>Frontnieuws</td>\n      <td>[1038, 14262, 0, 57, 78, 1247, 24284, 11044, 8...</td>\n      <td></td>\n    </tr>\n    <tr>\n      <th>1534</th>\n      <td>\\n\\n\\n\\nWelcome!ZoekFrontnieuws\\n\\n\\n\\n938CC B...</td>\n      <td>13-7-2020</td>\n      <td>https://www.frontnieuws.com/servische-soldaten...</td>\n      <td>Frontnieuws</td>\n      <td>[1038, 14262, 0, 57, 78, 1247, 24284, 11044, 8...</td>\n      <td></td>\n    </tr>\n  </tbody>\n</table>\n<p>1374 rows × 6 columns</p>\n</div>"
     },
     "execution_count": 18,
     "metadata": {},
     "output_type": "execute_result"
    }
   ],
   "source": [
    "final_df"
   ],
   "metadata": {
    "collapsed": false
   }
  },
  {
   "cell_type": "code",
   "execution_count": 19,
   "outputs": [],
   "source": [
    "def run_gpt_analysis(df):\n",
    "    for index, text in enumerate(tqdm(df['text'])):\n",
    "        for attempt in range(4):\n",
    "            try:\n",
    "                result = get_entities_and_subjects_gpt(text)\n",
    "                df['GPT output'][index] = result\n",
    "                print(f'Row {index} is done!')\n",
    "                break\n",
    "            except:\n",
    "                print(f'Sleeping 16 sec at attempt {attempt} for row {index}.')\n",
    "                time.sleep(16)\n",
    "        df.to_csv('Final_results.csv')"
   ],
   "metadata": {
    "collapsed": false
   }
  },
  {
   "cell_type": "code",
   "execution_count": null,
   "outputs": [
    {
     "data": {
      "text/plain": "  0%|          | 0/1374 [00:00<?, ?it/s]",
      "application/vnd.jupyter.widget-view+json": {
       "version_major": 2,
       "version_minor": 0,
       "model_id": "2f0927d2d2ac4a9093d69cbc9a585911"
      }
     },
     "metadata": {},
     "output_type": "display_data"
    },
    {
     "name": "stdout",
     "output_type": "stream",
     "text": [
      "Row 0 is done!\n",
      "Row 1 is done!\n",
      "Row 2 is done!\n",
      "Row 3 is done!\n",
      "Sleeping 16 sec at attempt 0 for row 4.\n",
      "Row 4 is done!\n",
      "Row 5 is done!\n",
      "Sleeping 16 sec at attempt 0 for row 6.\n",
      "Row 6 is done!\n",
      "Sleeping 16 sec at attempt 0 for row 7.\n",
      "Row 7 is done!\n",
      "Sleeping 16 sec at attempt 0 for row 8.\n"
     ]
    }
   ],
   "source": [
    "run_gpt_analysis(final_df)"
   ],
   "metadata": {
    "collapsed": false,
    "pycharm": {
     "is_executing": true
    }
   }
  },
  {
   "cell_type": "code",
   "execution_count": null,
   "outputs": [],
   "source": [
    "df = pd.read_csv('Final_results.csv')\n",
    "df['GPT output']"
   ],
   "metadata": {
    "collapsed": false,
    "pycharm": {
     "is_executing": true
    }
   }
  },
  {
   "cell_type": "code",
   "execution_count": null,
   "outputs": [],
   "source": [],
   "metadata": {
    "collapsed": false
   }
  },
  {
   "cell_type": "code",
   "execution_count": 29,
   "outputs": [],
   "source": [],
   "metadata": {
    "collapsed": false
   }
  }
 ],
 "metadata": {
  "kernelspec": {
   "display_name": "Python 3",
   "language": "python",
   "name": "python3"
  },
  "language_info": {
   "codemirror_mode": {
    "name": "ipython",
    "version": 2
   },
   "file_extension": ".py",
   "mimetype": "text/x-python",
   "name": "python",
   "nbconvert_exporter": "python",
   "pygments_lexer": "ipython2",
   "version": "2.7.6"
  }
 },
 "nbformat": 4,
 "nbformat_minor": 0
}
